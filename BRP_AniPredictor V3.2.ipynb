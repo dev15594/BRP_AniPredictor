{
 "cells": [
  {
   "cell_type": "code",
   "execution_count": 1,
   "id": "a168f95f-82a3-408d-9984-05215135e3e0",
   "metadata": {},
   "outputs": [],
   "source": [
    "exiftool_path = r\"C:\\Windows\\exiftool.exe\"\n",
    "input_dir = r\"C:\\Users\\DELL\\Downloads\\Trial\"\n",
    "dest_dir = r\"C:\\Users\\DELL\\Downloads\\Dest\"\n",
    "Station = \"SudasariACD\"\n",
    "Camera = \"B\"\n",
    "latitude = 26.723574  # Replace with your latitude\n",
    "longitude = 70.634269  # Replace with your longitude"
   ]
  },
  {
   "cell_type": "code",
   "execution_count": 2,
   "id": "31da0b8d-53f7-4bbf-98e0-3f2a7f1105c3",
   "metadata": {},
   "outputs": [],
   "source": [
    "#### Function for find corrupt files\n",
    "import os\n",
    "\n",
    "def list_corrupt_files_in_directory(directory):\n",
    "    corrupt_files=[]\n",
    "    for root, dirs, files in os.walk(directory):\n",
    "        for file in files:\n",
    "            file_path = os.path.join(root, file)\n",
    "            try:\n",
    "                # Use the os.path.getsize() method to check if the file is empty or very small\n",
    "                file_size = os.path.getsize(file_path)\n",
    "                if file_size < 10:  # Adjust the threshold as needed\n",
    "                    corrupt_files.append(file_path)\n",
    "                    print(f\"Corrupt file: {file_path}\")\n",
    "                else:\n",
    "                    continue\n",
    "            except Exception as e:\n",
    "                # Handle other exceptions that might occur\n",
    "                print(f\"Error processing file {file_path}: {e}\")\n",
    "    return corrupt_files"
   ]
  },
  {
   "cell_type": "code",
   "execution_count": 3,
   "id": "c60bbf3a-f3f4-425d-9095-80ef09db4144",
   "metadata": {},
   "outputs": [
    {
     "name": "stdout",
     "output_type": "stream",
     "text": [
      "Corrupt files : 0 images removed\n"
     ]
    }
   ],
   "source": [
    "#### Find and delete corrupt photos\n",
    "\n",
    "corrupt_files=list_corrupt_files_in_directory(input_dir)\n",
    "if len(corrupt_files) > 0:\n",
    "    for c in corrupt_files:\n",
    "        os.remove(c)\n",
    "print(f\"Corrupt files : {len(corrupt_files)} images removed\")"
   ]
  },
  {
   "cell_type": "code",
   "execution_count": 4,
   "id": "bf5ca0e6-b6e0-4d72-8349-bd9511af1d9d",
   "metadata": {},
   "outputs": [],
   "source": [
    "#### Fucntions for fast renaming and copying\n",
    "\n",
    "import datetime\n",
    "import pandas as pd\n",
    "import exifread\n",
    "import os\n",
    "from datetime import timedelta\n",
    "import shutil\n",
    "from concurrent.futures import ThreadPoolExecutor\n",
    "import math\n",
    "import pyfastcopy\n",
    "import gc\n",
    "\n",
    "def list_files_in_directory(directory):\n",
    "    file_paths = []\n",
    "    for root, dirs, files in os.walk(directory):\n",
    "        for file in files:\n",
    "            if file.lower().endswith(('.jpg', '.jpeg','.csv','.json')):\n",
    "                file_path = os.path.join(root, file)\n",
    "                file_paths.append(file_path)\n",
    "            else:\n",
    "                continue\n",
    "    return file_paths\n",
    "\n",
    "def convert_datetime(dt):\n",
    "    try:\n",
    "        dt = pd.to_datetime(dt, format='%Y-%m-%d %H-%M-%S')\n",
    "        return dt.strftime('%Y%m%d_%H%M%S')\n",
    "    except pd.errors.OutOfBoundsDatetime:\n",
    "        return 'OutOfBoundsDatetime'\n",
    "\n",
    "def clean_path(path):\n",
    "    return os.path.normpath(path)\n",
    "\n",
    "def process_image(image_path):\n",
    "    with open(image_path, 'rb') as image_file:\n",
    "        tags = exifread.process_file(image_file, details=False)\n",
    "        \n",
    "        directory = os.path.dirname(image_path)\n",
    "        filename = os.path.basename(image_path)\n",
    "        filetype_extension = os.path.splitext(filename)[1]\n",
    "        make = tags.get('Image Make', 'N/A')\n",
    "        model = tags.get('Image Model', 'N/A')\n",
    "        datetime_original = tags.get('EXIF DateTimeOriginal', 'N/A')\n",
    "        \n",
    "        return {\n",
    "            'SourceFile': image_path,\n",
    "            'Directory': directory,\n",
    "            'FileName': filename,\n",
    "            'FileTypeExtension': filetype_extension,\n",
    "            'Make': make,\n",
    "            'Model': model,\n",
    "            'DateTimeOriginal': datetime_original\n",
    "        }\n",
    "\n",
    "def read_exif(image_dir):\n",
    "    file_paths = list_files_in_directory(image_dir)\n",
    "    print(len(file_paths))\n",
    "    with ThreadPoolExecutor(20) as executor:  # Adjust max_workers as needed\n",
    "        image_metadata_list = list(executor.map(process_image, file_paths))\n",
    "    exif_info = pd.DataFrame(image_metadata_list)\n",
    "    return exif_info\n",
    "\n",
    "def create_new_filenames(exif_info):\n",
    "    exif_info = exif_info[exif_info[\"DateTimeOriginal\"] != \"N/A\"]\n",
    "    highest_subfolder_number = get_highest_subfolder_number(dest_dir)\n",
    "    exif_info['Station'] = Station\n",
    "    exif_info['Camera'] = Camera\n",
    "    exif_info['DateTimeOriginal'] = pd.to_datetime(exif_info['DateTimeOriginal'], format='%Y:%m:%d %H:%M:%S')\n",
    "    exif_info['FormattedDateTime'] = exif_info['DateTimeOriginal'].apply(convert_datetime)\n",
    "    exif_info = exif_info.sort_values(by=['Station', 'Camera', 'DateTimeOriginal']).reset_index(drop=True)\n",
    "    exif_info['diff'] = exif_info.groupby(['Station', 'Camera'])['DateTimeOriginal'].diff()\n",
    "    exif_info['image_number']=exif_info.groupby(['Station','Camera']).cumcount()+1\n",
    "    exif_info['Directory'] = exif_info['Directory'].apply(clean_path)\n",
    "    exif_info['SourceFile'] = exif_info['SourceFile'].apply(clean_path)\n",
    "    exif_info['Dest_subfolder_number'] = (highest_subfolder_number + exif_info['image_number'].apply(lambda x: math.ceil(x / 10000))).astype(str)\n",
    "    \n",
    "    subfolders=[]\n",
    "    min_dates=[]\n",
    "    max_dates=[]\n",
    "    for d in exif_info[\"Dest_subfolder_number\"].unique():\n",
    "        subfolders.append(d)\n",
    "        temp_renaming_table = exif_info.loc[exif_info[\"Dest_subfolder_number\"] == d]  \n",
    "        min_date = datetime.datetime.strftime(min(temp_renaming_table.FormattedDateTime.apply(lambda x: datetime.datetime.strptime(x,'%Y%m%d_%H%M%S'))),'%Y%m%d_%H%M%S')\n",
    "        min_dates.append(min_date)\n",
    "        max_date = datetime.datetime.strftime(max(temp_renaming_table.FormattedDateTime.apply(lambda x: datetime.datetime.strptime(x,'%Y%m%d_%H%M%S'))),'%Y%m%d_%H%M%S')\n",
    "        max_dates.append(max_date)\n",
    "    subfolder_intervals_df = pd.DataFrame({\"Dest_subfolder_number\" : subfolders, \"min_date\" : min_dates, \"max_date\" : max_dates})\n",
    "    exif_info = exif_info.merge(subfolder_intervals_df, how = \"left\")\n",
    "    exif_info['Dest_Directory'] = (dest_dir + \"\\\\\" + exif_info['min_date'] + \"__to__\" + exif_info[\"max_date\"]).apply(clean_path)\n",
    "    #exif_info['Dest_Directory'] = (dest_dir + \"\\\\\" + exif_info[\"Dest_subfolder_number\"]).apply(clean_path)\n",
    "\n",
    "    ### Add sequence number\n",
    "    threshold = timedelta(seconds=1)\n",
    "    Sequence = []\n",
    "    for i in range(len(exif_info)):\n",
    "        diff = exif_info['diff'][i]\n",
    "        if pd.isna(diff) or diff > threshold:\n",
    "            sequence = 1\n",
    "        else:\n",
    "            sequence = Sequence[i - 1] + 1\n",
    "        Sequence.append(sequence)\n",
    "    exif_info['Sequence'] = Sequence\n",
    "\n",
    "    ### Construct new filename\n",
    "    exif_info['FileNameNew'] = exif_info['Station'] + '_' + exif_info['Camera'] + '_' + exif_info['FormattedDateTime'] + '(' + exif_info['Sequence'].astype(str) + ')' + exif_info['FileTypeExtension']\n",
    "    exif_info['DestFile'] = (exif_info['Dest_Directory'] + \"\\\\\" + exif_info['FileNameNew']).apply(clean_path)\n",
    "    \n",
    "    return exif_info\n",
    "\n",
    "def get_highest_subfolder_number(dest_dir):\n",
    "    # Get existing subdirectories\n",
    "    if os.path.isdir(dest_dir):\n",
    "        existing_subdirs = [d for d in os.listdir(dest_dir) if os.path.isdir(os.path.join(dest_dir, d))]\n",
    "        subfolder_numbers = [int(dir) for dir in existing_subdirs]\n",
    "        try:\n",
    "            max_number = max(subfolder_numbers)\n",
    "        except:\n",
    "            max_number = 0\n",
    "    else:\n",
    "        max_number = 0\n",
    "    # Return the highest subfolder number or 0 if none exist\n",
    "    return max_number\n",
    "\n",
    "def copy_images_batch(table, batch_size=1000):\n",
    "    src_files=table['SourceFile']\n",
    "    dest_files=table['DestFile']\n",
    "    with ThreadPoolExecutor(20) as exe:\n",
    "        for i in range(0, len(src_files), batch_size):\n",
    "            src_batch = src_files[i:i + batch_size]\n",
    "            dest_batch = dest_files[i:i + batch_size]\n",
    "            \n",
    "            batch_tasks = [exe.submit(shutil.copy, src, dest) for src, dest in zip(src_batch, dest_batch)]\n",
    "            # Wait for all tasks in the batch to complete before proceeding to the next batch\n",
    "            _ = [task.result() for task in batch_tasks]\n",
    "            print(f\"First {i+1 * 1000} images copied at {datetime.datetime.now()}\")\n",
    "            gc.collect()"
   ]
  },
  {
   "cell_type": "code",
   "execution_count": 5,
   "id": "a5922ebe-79df-4a01-8423-474b9439463d",
   "metadata": {},
   "outputs": [
    {
     "name": "stdout",
     "output_type": "stream",
     "text": [
      "9\n"
     ]
    },
    {
     "ename": "ValueError",
     "evalue": "invalid literal for int() with base 10: '20240611_033225__to__20240617_215346'",
     "output_type": "error",
     "traceback": [
      "\u001b[1;31m---------------------------------------------------------------------------\u001b[0m",
      "\u001b[1;31mValueError\u001b[0m                                Traceback (most recent call last)",
      "Cell \u001b[1;32mIn[5], line 4\u001b[0m\n\u001b[0;32m      2\u001b[0m \u001b[38;5;66;03m###Create Renaming Table\u001b[39;00m\n\u001b[0;32m      3\u001b[0m exif \u001b[38;5;241m=\u001b[39m read_exif(input_dir)\n\u001b[1;32m----> 4\u001b[0m renaming_table\u001b[38;5;241m=\u001b[39m\u001b[43mcreate_new_filenames\u001b[49m\u001b[43m(\u001b[49m\u001b[43mexif\u001b[49m\u001b[43m)\u001b[49m\n\u001b[0;32m      5\u001b[0m \u001b[38;5;28mprint\u001b[39m(\u001b[38;5;124mf\u001b[39m\u001b[38;5;124m\"\u001b[39m\u001b[38;5;124mRenaming table created in \u001b[39m\u001b[38;5;132;01m{\u001b[39;00mdatetime\u001b[38;5;241m.\u001b[39mdatetime\u001b[38;5;241m.\u001b[39mnow()\u001b[38;5;250m \u001b[39m\u001b[38;5;241m-\u001b[39m\u001b[38;5;250m \u001b[39mstart\u001b[38;5;132;01m}\u001b[39;00m\u001b[38;5;124m\"\u001b[39m)\n\u001b[0;32m      7\u001b[0m \u001b[38;5;66;03m### Copy and rename in batches, based on renaming table\u001b[39;00m\n",
      "Cell \u001b[1;32mIn[4], line 66\u001b[0m, in \u001b[0;36mcreate_new_filenames\u001b[1;34m(exif_info)\u001b[0m\n\u001b[0;32m     64\u001b[0m \u001b[38;5;28;01mdef\u001b[39;00m \u001b[38;5;21mcreate_new_filenames\u001b[39m(exif_info):\n\u001b[0;32m     65\u001b[0m     exif_info \u001b[38;5;241m=\u001b[39m exif_info[exif_info[\u001b[38;5;124m\"\u001b[39m\u001b[38;5;124mDateTimeOriginal\u001b[39m\u001b[38;5;124m\"\u001b[39m] \u001b[38;5;241m!=\u001b[39m \u001b[38;5;124m\"\u001b[39m\u001b[38;5;124mN/A\u001b[39m\u001b[38;5;124m\"\u001b[39m]\n\u001b[1;32m---> 66\u001b[0m     highest_subfolder_number \u001b[38;5;241m=\u001b[39m \u001b[43mget_highest_subfolder_number\u001b[49m\u001b[43m(\u001b[49m\u001b[43mdest_dir\u001b[49m\u001b[43m)\u001b[49m\n\u001b[0;32m     67\u001b[0m     exif_info[\u001b[38;5;124m'\u001b[39m\u001b[38;5;124mStation\u001b[39m\u001b[38;5;124m'\u001b[39m] \u001b[38;5;241m=\u001b[39m Station\n\u001b[0;32m     68\u001b[0m     exif_info[\u001b[38;5;124m'\u001b[39m\u001b[38;5;124mCamera\u001b[39m\u001b[38;5;124m'\u001b[39m] \u001b[38;5;241m=\u001b[39m Camera\n",
      "Cell \u001b[1;32mIn[4], line 115\u001b[0m, in \u001b[0;36mget_highest_subfolder_number\u001b[1;34m(dest_dir)\u001b[0m\n\u001b[0;32m    113\u001b[0m \u001b[38;5;28;01mif\u001b[39;00m os\u001b[38;5;241m.\u001b[39mpath\u001b[38;5;241m.\u001b[39misdir(dest_dir):\n\u001b[0;32m    114\u001b[0m     existing_subdirs \u001b[38;5;241m=\u001b[39m [d \u001b[38;5;28;01mfor\u001b[39;00m d \u001b[38;5;129;01min\u001b[39;00m os\u001b[38;5;241m.\u001b[39mlistdir(dest_dir) \u001b[38;5;28;01mif\u001b[39;00m os\u001b[38;5;241m.\u001b[39mpath\u001b[38;5;241m.\u001b[39misdir(os\u001b[38;5;241m.\u001b[39mpath\u001b[38;5;241m.\u001b[39mjoin(dest_dir, d))]\n\u001b[1;32m--> 115\u001b[0m     subfolder_numbers \u001b[38;5;241m=\u001b[39m [\u001b[38;5;28mint\u001b[39m(\u001b[38;5;28mdir\u001b[39m) \u001b[38;5;28;01mfor\u001b[39;00m \u001b[38;5;28mdir\u001b[39m \u001b[38;5;129;01min\u001b[39;00m existing_subdirs]\n\u001b[0;32m    116\u001b[0m     \u001b[38;5;28;01mtry\u001b[39;00m:\n\u001b[0;32m    117\u001b[0m         max_number \u001b[38;5;241m=\u001b[39m \u001b[38;5;28mmax\u001b[39m(subfolder_numbers)\n",
      "Cell \u001b[1;32mIn[4], line 115\u001b[0m, in \u001b[0;36m<listcomp>\u001b[1;34m(.0)\u001b[0m\n\u001b[0;32m    113\u001b[0m \u001b[38;5;28;01mif\u001b[39;00m os\u001b[38;5;241m.\u001b[39mpath\u001b[38;5;241m.\u001b[39misdir(dest_dir):\n\u001b[0;32m    114\u001b[0m     existing_subdirs \u001b[38;5;241m=\u001b[39m [d \u001b[38;5;28;01mfor\u001b[39;00m d \u001b[38;5;129;01min\u001b[39;00m os\u001b[38;5;241m.\u001b[39mlistdir(dest_dir) \u001b[38;5;28;01mif\u001b[39;00m os\u001b[38;5;241m.\u001b[39mpath\u001b[38;5;241m.\u001b[39misdir(os\u001b[38;5;241m.\u001b[39mpath\u001b[38;5;241m.\u001b[39mjoin(dest_dir, d))]\n\u001b[1;32m--> 115\u001b[0m     subfolder_numbers \u001b[38;5;241m=\u001b[39m [\u001b[38;5;28;43mint\u001b[39;49m\u001b[43m(\u001b[49m\u001b[38;5;28;43mdir\u001b[39;49m\u001b[43m)\u001b[49m \u001b[38;5;28;01mfor\u001b[39;00m \u001b[38;5;28mdir\u001b[39m \u001b[38;5;129;01min\u001b[39;00m existing_subdirs]\n\u001b[0;32m    116\u001b[0m     \u001b[38;5;28;01mtry\u001b[39;00m:\n\u001b[0;32m    117\u001b[0m         max_number \u001b[38;5;241m=\u001b[39m \u001b[38;5;28mmax\u001b[39m(subfolder_numbers)\n",
      "\u001b[1;31mValueError\u001b[0m: invalid literal for int() with base 10: '20240611_033225__to__20240617_215346'"
     ]
    }
   ],
   "source": [
    "start = datetime.datetime.now()\n",
    "###Create Renaming Table\n",
    "exif = read_exif(input_dir)\n",
    "renaming_table=create_new_filenames(exif)\n",
    "print(f\"Renaming table created in {datetime.datetime.now() - start}\")\n",
    "\n",
    "### Copy and rename in batches, based on renaming table\n",
    "unique_directories = set(renaming_table['Dest_Directory'])\n",
    "for d in unique_directories:\n",
    "    if not os.path.exists(d):\n",
    "        os.makedirs(d)\n",
    "copy_images_batch(renaming_table)\n",
    "print(f\"Renaming and copying completed in {datetime.datetime.now() - start}\")"
   ]
  },
  {
   "cell_type": "code",
   "execution_count": 6,
   "id": "017e3055-9dc0-47c2-a2a9-d75ebd8056a2",
   "metadata": {
    "scrolled": true
   },
   "outputs": [
    {
     "data": {
      "text/html": [
       "<div>\n",
       "<style scoped>\n",
       "    .dataframe tbody tr th:only-of-type {\n",
       "        vertical-align: middle;\n",
       "    }\n",
       "\n",
       "    .dataframe tbody tr th {\n",
       "        vertical-align: top;\n",
       "    }\n",
       "\n",
       "    .dataframe thead th {\n",
       "        text-align: right;\n",
       "    }\n",
       "</style>\n",
       "<table border=\"1\" class=\"dataframe\">\n",
       "  <thead>\n",
       "    <tr style=\"text-align: right;\">\n",
       "      <th></th>\n",
       "      <th>SourceFile</th>\n",
       "      <th>Directory</th>\n",
       "      <th>FileName</th>\n",
       "      <th>FileTypeExtension</th>\n",
       "      <th>Make</th>\n",
       "      <th>Model</th>\n",
       "      <th>DateTimeOriginal</th>\n",
       "    </tr>\n",
       "  </thead>\n",
       "  <tbody>\n",
       "    <tr>\n",
       "      <th>0</th>\n",
       "      <td>D:\\Trial\\Sudasari B\\Sudasari B2\\Test_14022024\\...</td>\n",
       "      <td>D:\\Trial\\Sudasari B\\Sudasari B2\\Test_14022024\\A</td>\n",
       "      <td>IMG_0001.JPG</td>\n",
       "      <td>.JPG</td>\n",
       "      <td>RECONYX</td>\n",
       "      <td>HC500 HYPERFIRE</td>\n",
       "      <td>2023:05:23 19:35:00</td>\n",
       "    </tr>\n",
       "    <tr>\n",
       "      <th>1</th>\n",
       "      <td>D:\\Trial\\Sudasari B\\Sudasari B2\\Test_14022024\\...</td>\n",
       "      <td>D:\\Trial\\Sudasari B\\Sudasari B2\\Test_14022024\\A</td>\n",
       "      <td>IMG_0002.JPG</td>\n",
       "      <td>.JPG</td>\n",
       "      <td>RECONYX</td>\n",
       "      <td>HC500 HYPERFIRE</td>\n",
       "      <td>2023:05:23 19:36:00</td>\n",
       "    </tr>\n",
       "    <tr>\n",
       "      <th>2</th>\n",
       "      <td>D:\\Trial\\Sudasari B\\Sudasari B2\\Test_14022024\\...</td>\n",
       "      <td>D:\\Trial\\Sudasari B\\Sudasari B2\\Test_14022024\\A</td>\n",
       "      <td>IMG_0003.JPG</td>\n",
       "      <td>.JPG</td>\n",
       "      <td>RECONYX</td>\n",
       "      <td>HC500 HYPERFIRE</td>\n",
       "      <td>2023:05:23 19:37:00</td>\n",
       "    </tr>\n",
       "    <tr>\n",
       "      <th>3</th>\n",
       "      <td>D:\\Trial\\Sudasari B\\Sudasari B2\\Test_14022024\\...</td>\n",
       "      <td>D:\\Trial\\Sudasari B\\Sudasari B2\\Test_14022024\\A</td>\n",
       "      <td>IMG_0004.JPG</td>\n",
       "      <td>.JPG</td>\n",
       "      <td>RECONYX</td>\n",
       "      <td>HC500 HYPERFIRE</td>\n",
       "      <td>2023:05:23 19:38:00</td>\n",
       "    </tr>\n",
       "    <tr>\n",
       "      <th>4</th>\n",
       "      <td>D:\\Trial\\Sudasari B\\Sudasari B2\\Test_14022024\\...</td>\n",
       "      <td>D:\\Trial\\Sudasari B\\Sudasari B2\\Test_14022024\\A</td>\n",
       "      <td>IMG_0005.JPG</td>\n",
       "      <td>.JPG</td>\n",
       "      <td>RECONYX</td>\n",
       "      <td>HC500 HYPERFIRE</td>\n",
       "      <td>2023:05:23 19:39:00</td>\n",
       "    </tr>\n",
       "    <tr>\n",
       "      <th>...</th>\n",
       "      <td>...</td>\n",
       "      <td>...</td>\n",
       "      <td>...</td>\n",
       "      <td>...</td>\n",
       "      <td>...</td>\n",
       "      <td>...</td>\n",
       "      <td>...</td>\n",
       "    </tr>\n",
       "    <tr>\n",
       "      <th>142</th>\n",
       "      <td>D:\\Trial\\Sudasari B\\Sudasari B2\\Test_14022024\\...</td>\n",
       "      <td>D:\\Trial\\Sudasari B\\Sudasari B2\\Test_14022024\\B</td>\n",
       "      <td>IMG_0225.JPG</td>\n",
       "      <td>.JPG</td>\n",
       "      <td>RECONYX</td>\n",
       "      <td>HC500 HYPERFIRE</td>\n",
       "      <td>2023:01:29 11:18:48</td>\n",
       "    </tr>\n",
       "    <tr>\n",
       "      <th>143</th>\n",
       "      <td>D:\\Trial\\Sudasari B\\Sudasari B2\\Test_14022024\\...</td>\n",
       "      <td>D:\\Trial\\Sudasari B\\Sudasari B2\\Test_14022024\\B</td>\n",
       "      <td>IMG_0226.JPG</td>\n",
       "      <td>.JPG</td>\n",
       "      <td>RECONYX</td>\n",
       "      <td>HC500 HYPERFIRE</td>\n",
       "      <td>2023:01:29 11:18:48</td>\n",
       "    </tr>\n",
       "    <tr>\n",
       "      <th>144</th>\n",
       "      <td>D:\\Trial\\Sudasari B\\Sudasari B2\\Test_14022024\\...</td>\n",
       "      <td>D:\\Trial\\Sudasari B\\Sudasari B2\\Test_14022024\\B</td>\n",
       "      <td>IMG_0227.JPG</td>\n",
       "      <td>.JPG</td>\n",
       "      <td>RECONYX</td>\n",
       "      <td>HC500 HYPERFIRE</td>\n",
       "      <td>2023:01:29 11:18:59</td>\n",
       "    </tr>\n",
       "    <tr>\n",
       "      <th>145</th>\n",
       "      <td>D:\\Trial\\Sudasari B\\Sudasari B2\\Test_14022024\\...</td>\n",
       "      <td>D:\\Trial\\Sudasari B\\Sudasari B2\\Test_14022024\\B</td>\n",
       "      <td>IMG_0228.JPG</td>\n",
       "      <td>.JPG</td>\n",
       "      <td>RECONYX</td>\n",
       "      <td>HC500 HYPERFIRE</td>\n",
       "      <td>2023:01:29 11:19:00</td>\n",
       "    </tr>\n",
       "    <tr>\n",
       "      <th>146</th>\n",
       "      <td>D:\\Trial\\Sudasari B\\Sudasari B2\\Test_14022024\\...</td>\n",
       "      <td>D:\\Trial\\Sudasari B\\Sudasari B2\\Test_14022024\\B</td>\n",
       "      <td>IMG_0229.JPG</td>\n",
       "      <td>.JPG</td>\n",
       "      <td>RECONYX</td>\n",
       "      <td>HC500 HYPERFIRE</td>\n",
       "      <td>2023:01:29 11:19:01</td>\n",
       "    </tr>\n",
       "  </tbody>\n",
       "</table>\n",
       "<p>147 rows × 7 columns</p>\n",
       "</div>"
      ],
      "text/plain": [
       "                                            SourceFile  \\\n",
       "0    D:\\Trial\\Sudasari B\\Sudasari B2\\Test_14022024\\...   \n",
       "1    D:\\Trial\\Sudasari B\\Sudasari B2\\Test_14022024\\...   \n",
       "2    D:\\Trial\\Sudasari B\\Sudasari B2\\Test_14022024\\...   \n",
       "3    D:\\Trial\\Sudasari B\\Sudasari B2\\Test_14022024\\...   \n",
       "4    D:\\Trial\\Sudasari B\\Sudasari B2\\Test_14022024\\...   \n",
       "..                                                 ...   \n",
       "142  D:\\Trial\\Sudasari B\\Sudasari B2\\Test_14022024\\...   \n",
       "143  D:\\Trial\\Sudasari B\\Sudasari B2\\Test_14022024\\...   \n",
       "144  D:\\Trial\\Sudasari B\\Sudasari B2\\Test_14022024\\...   \n",
       "145  D:\\Trial\\Sudasari B\\Sudasari B2\\Test_14022024\\...   \n",
       "146  D:\\Trial\\Sudasari B\\Sudasari B2\\Test_14022024\\...   \n",
       "\n",
       "                                           Directory      FileName  \\\n",
       "0    D:\\Trial\\Sudasari B\\Sudasari B2\\Test_14022024\\A  IMG_0001.JPG   \n",
       "1    D:\\Trial\\Sudasari B\\Sudasari B2\\Test_14022024\\A  IMG_0002.JPG   \n",
       "2    D:\\Trial\\Sudasari B\\Sudasari B2\\Test_14022024\\A  IMG_0003.JPG   \n",
       "3    D:\\Trial\\Sudasari B\\Sudasari B2\\Test_14022024\\A  IMG_0004.JPG   \n",
       "4    D:\\Trial\\Sudasari B\\Sudasari B2\\Test_14022024\\A  IMG_0005.JPG   \n",
       "..                                               ...           ...   \n",
       "142  D:\\Trial\\Sudasari B\\Sudasari B2\\Test_14022024\\B  IMG_0225.JPG   \n",
       "143  D:\\Trial\\Sudasari B\\Sudasari B2\\Test_14022024\\B  IMG_0226.JPG   \n",
       "144  D:\\Trial\\Sudasari B\\Sudasari B2\\Test_14022024\\B  IMG_0227.JPG   \n",
       "145  D:\\Trial\\Sudasari B\\Sudasari B2\\Test_14022024\\B  IMG_0228.JPG   \n",
       "146  D:\\Trial\\Sudasari B\\Sudasari B2\\Test_14022024\\B  IMG_0229.JPG   \n",
       "\n",
       "    FileTypeExtension     Make            Model     DateTimeOriginal  \n",
       "0                .JPG  RECONYX  HC500 HYPERFIRE  2023:05:23 19:35:00  \n",
       "1                .JPG  RECONYX  HC500 HYPERFIRE  2023:05:23 19:36:00  \n",
       "2                .JPG  RECONYX  HC500 HYPERFIRE  2023:05:23 19:37:00  \n",
       "3                .JPG  RECONYX  HC500 HYPERFIRE  2023:05:23 19:38:00  \n",
       "4                .JPG  RECONYX  HC500 HYPERFIRE  2023:05:23 19:39:00  \n",
       "..                ...      ...              ...                  ...  \n",
       "142              .JPG  RECONYX  HC500 HYPERFIRE  2023:01:29 11:18:48  \n",
       "143              .JPG  RECONYX  HC500 HYPERFIRE  2023:01:29 11:18:48  \n",
       "144              .JPG  RECONYX  HC500 HYPERFIRE  2023:01:29 11:18:59  \n",
       "145              .JPG  RECONYX  HC500 HYPERFIRE  2023:01:29 11:19:00  \n",
       "146              .JPG  RECONYX  HC500 HYPERFIRE  2023:01:29 11:19:01  \n",
       "\n",
       "[147 rows x 7 columns]"
      ]
     },
     "execution_count": 6,
     "metadata": {},
     "output_type": "execute_result"
    }
   ],
   "source": [
    "exif"
   ]
  },
  {
   "cell_type": "code",
   "execution_count": null,
   "id": "395a8362-e26d-4286-9f79-e88bd35760a1",
   "metadata": {},
   "outputs": [],
   "source": []
  },
  {
   "cell_type": "code",
   "execution_count": 6,
   "id": "784d761f-2cd9-43c7-a689-2cbbef8f0c73",
   "metadata": {},
   "outputs": [],
   "source": [
    "#### Functions for geotagging\n",
    "\n",
    "import subprocess\n",
    "import exiftool\n",
    "import datetime\n",
    "\n",
    "def add_gps_info(image_dir):\n",
    "    command = [exiftool_path, '-GPSLatitude=' + str(latitude), '-GPSLongitude=' + str(longitude), '-overwrite_original','-r',image_dir]\n",
    "    try:\n",
    "        subprocess.run(command, check=True)\n",
    "        print(f\"GPS information added to {image_dir} successfully.\")\n",
    "    except subprocess.CalledProcessError as e:\n",
    "        print(f\"Error while processing {image_dir}: {e}\")"
   ]
  },
  {
   "cell_type": "code",
   "execution_count": 7,
   "id": "051c8d66-4039-4a29-b219-6114deb2a2fa",
   "metadata": {},
   "outputs": [
    {
     "name": "stdout",
     "output_type": "stream",
     "text": [
      "GPS information added to C:\\Users\\DELL\\Downloads\\Dest\\20240611_033225__to__20240617_215346 successfully.\n",
      "Geotagging completed in 0:00:00.811481\n"
     ]
    }
   ],
   "source": [
    "### Geotag\n",
    "start = datetime.datetime.now()\n",
    "for d in unique_directories:\n",
    "    add_gps_info(d)\n",
    "end= datetime.datetime.now()\n",
    "print(f\"Geotagging completed in {end-start}\")"
   ]
  },
  {
   "cell_type": "code",
   "execution_count": null,
   "id": "a0920113-634d-4031-b853-c2d2c6dfe1ea",
   "metadata": {},
   "outputs": [],
   "source": []
  },
  {
   "cell_type": "code",
   "execution_count": 10,
   "id": "ce86546d-0618-4f5e-b9f2-96fa02adddc1",
   "metadata": {
    "scrolled": true
   },
   "outputs": [
    {
     "name": "stdout",
     "output_type": "stream",
     "text": [
      "Models loaded : True\n",
      "GPU available\n",
      "C:\\Users\\DELL\\Downloads\\Dest\\20240611_033225__to__20240617_215346\n",
      "Loading Models...\n",
      "0:00:00\n",
      "\n",
      "C:\\Users\\DELL\\Downloads\\Dest\\20240611_033225__to__20240617_215346\n",
      "185\n",
      "Megadetector model\n",
      "Megadetector output file already exists.. Going for species classification\n",
      "Saving detections at C:\\Users\\DELL\\Downloads\\Dest\\20240611_033225__to__20240617_215346\\Downloads_Dest_20240611_033225__to__20240617_215346_megadetector.json...\n",
      "Generating detections.csv...\n",
      "Images already cropped...\n",
      "Order level classification already complete\n",
      "Predicting Small Carnivores...\n",
      "1/1 [==============================] - 1s 1s/step\n"
     ]
    },
    {
     "name": "stderr",
     "output_type": "stream",
     "text": [
      "C:\\Users\\DELL\\AppData\\Local\\Temp\\ipykernel_14736\\2637883627.py:212: FutureWarning: The behavior of DataFrame concatenation with empty or all-NA entries is deprecated. In a future version, this will no longer exclude empty or all-NA columns when determining the result dtypes. To retain the old behavior, exclude the relevant entries before the concat operation.\n",
      "  df_species = pd.concat([df_small_carnivore,df_ungulate])\n"
     ]
    },
    {
     "name": "stdout",
     "output_type": "stream",
     "text": [
      "Moving Ungulates and Small Carnivores...\n"
     ]
    },
    {
     "name": "stderr",
     "output_type": "stream",
     "text": [
      "Copying images: 0it [00:01, ?it/s]\n",
      "Removing source images: 0it [00:01, ?it/s]"
     ]
    },
    {
     "name": "stdout",
     "output_type": "stream",
     "text": [
      "All 0 images copied and removed at 2024-08-23 19:26:19.670343\n",
      "Saving Logs\n"
     ]
    },
    {
     "name": "stderr",
     "output_type": "stream",
     "text": [
      "\n"
     ]
    }
   ],
   "source": [
    "### Run BRP_Anipredictor\n",
    "\n",
    "from PIL import Image, ImageFile\n",
    "ImageFile.LOAD_TRUNCATED_IMAGES = True\n",
    "from functions import *\n",
    "import torch\n",
    "from tqdm.notebook import tqdm\n",
    "import gc\n",
    "from Megadetector import *\n",
    "\n",
    "try:\n",
    "    print(f\"Models loaded : {areModelsLoaded}\")\n",
    "except:\n",
    "    areModelsLoaded = False\n",
    "log = {}\n",
    "now = datetime.now()\n",
    "\n",
    "inp = \"YES\"\n",
    "\n",
    "## CHECK FOR GPU\n",
    "\n",
    "gpus = tf.config.experimental.list_physical_devices('GPU')\n",
    "cpu = tf.config.experimental.list_physical_devices(\"CPU\")\n",
    "\n",
    "if gpus:\n",
    "    print(\"GPU available\")\n",
    "    gpu_name = torch.cuda.get_device_name()\n",
    "    try:\n",
    "        for gpu in gpus:\n",
    "            tf.config.experimental.set_memory_growth(gpu, True)\n",
    "            \n",
    "    except:\n",
    "        pass\n",
    "else:\n",
    "    print(\"No GPUs available.\")\n",
    "    \n",
    "## GET SUBDIRECTORIES\n",
    "\n",
    "sub_dirs = []\n",
    "for dirpath, dirnames, filenames in os.walk(dest_dir):\n",
    "    if not \"Cropped_images\" in dirpath and not dest_dir == dirpath: # 'not \"Cropped_images\" in dirnames and' at the start if required\n",
    "        if dirpath.split(\"\\\\\")[-1] not in [\"Cropped_images\",\"Chinkara\",\"Nilgai\", \"Cattle\",\"GIB\", \"Goat_Sheep\", \"Hare\", \"Human\", \"Raptor\", \"Small Bird\", \"Small Carnivore\", \"Ungulate\", \"Vehicle\", \"Wild Pig\"]:\n",
    "            sub_dirs.append(dirpath)\n",
    "        \n",
    "if sub_dirs == []:\n",
    "    sub_dirs.append(dest_dir)\n",
    "\n",
    "for i in sub_dirs:\n",
    "    print(i)\n",
    "\n",
    "if inp == \"YES\":\n",
    "    ## LOAD MODELS\n",
    "    print(\"Loading Models...\")\n",
    "    order_level_class_names = [\"GIB\", \"Goat_Sheep\", \"Hare\", \"Human\", \"Raptor\", \"Small Bird\", \"Small Carnivore\", \"Ungulate\", \"Vehicle\", \"Wild Pig\"]\n",
    "    order_level_class_names.sort()\n",
    "    ungulate_class_names = [\"Camel\", \"Chinkara\", \"Nilgai\", \"Cattle\"]\n",
    "    ungulate_class_names.sort() \n",
    "    small_carnivores_class_names = [\"Dog\", \"Desert Cat\", \"Fox\"]\n",
    "    small_carnivores_class_names.sort()\n",
    "    \n",
    "    model_load_start=time.time()\n",
    "    if areModelsLoaded == False:\n",
    "        order_level_model_path = os.path.join(os.getcwd(), r\"Models\\Refined_Hierarchical.ckpt\")\n",
    "        order_level_model = tf.keras.models.load_model(order_level_model_path)\n",
    "        \n",
    "        ungulate_model_path = os.path.join(os.getcwd(), r\"Models\\Efficient_Net_Ungulates_3.ckpt\")\n",
    "        ungulate_model = tf.keras.models.load_model(ungulate_model_path)   \n",
    "        \n",
    "        small_carnivore_model_path = os.path.join(os.getcwd(), r\"Models\\Efficient_Net_Small_Carnivores_1.ckpt\")\n",
    "        small_carnivore_model= tf.keras.models.load_model(small_carnivore_model_path)\n",
    "        \n",
    "        areModelsLoaded = True\n",
    "        \n",
    "    model_load_end = time.time()\n",
    "    model_load_time = str(timedelta(seconds=round(model_load_end - model_load_start)))\n",
    "    log.update({\"Species Model Load Time\" : model_load_time})\n",
    "    print(model_load_time)\n",
    "    \n",
    "    for data_dir in sub_dirs:\n",
    "        print()\n",
    "        print(data_dir)\n",
    "        ## CREATE LOGS\n",
    "        \n",
    "        log.update({\"Run timestamp\" : str(now)})\n",
    "        # log.update({\"GPU\" : gpus})\n",
    "        log.update({\"GPU Available for Classification : \" : gpu_name})\n",
    "        # log.update({\"CPU\" : cpu})\n",
    "        num_images = 0\n",
    "        files = os.listdir(data_dir)\n",
    "        for f in files:\n",
    "            if f.lower().endswith(\".jpg\"):\n",
    "                num_images += 1\n",
    "        log.update({\"Num images\" : num_images})\n",
    "        print(num_images)\n",
    "        \n",
    "        ## RUN MEGADETECTOR AND CREATE DETECTIONS.DF\n",
    "        \n",
    "        megadetector_start = time.time()\n",
    "        json_dir, megadetector_log = megadetector(data_dir, num_images)\n",
    "        if not megadetector_log == {}:\n",
    "            log.update(megadetector_log)\n",
    "        else:\n",
    "            megadetector_end = time.time()\n",
    "            megadetector_time = str(timedelta(seconds=round(megadetector_end - megadetector_start)))\n",
    "            log.update({\"Megadetector time\" : megadetector_time})\n",
    "            log.update({\"Megadetector Filename\" : os.path.basename(json_dir)})\n",
    "\n",
    "        df_detections = get_detection_df(data_dir, json_dir)\n",
    "        \n",
    "        ## CROP IMAGES\n",
    "        \n",
    "        cropping_start = time.time() \n",
    "        cropped_images = os.path.join(data_dir,r\"Cropped_images\\*\")\n",
    "        cropped_dir = clean_path(\"\\\\\".join(cropped_images.split(\"\\\\\")[:-1]))\n",
    "        if not os.path.exists(cropped_dir):\n",
    "            print(\"Cropping Images\")\n",
    "            df_crop = df_detections.copy()\n",
    "            df_crop[\"Cropped_image_directory\"] = cropped_dir\n",
    "            df_crop[\"Cropped_image_name\"] = df_crop[\"Filename\"] + \"_\" + df_crop[\"Detection_number\"].astype(str) + \".jpg\"\n",
    "            df_crop[\"Cropped_image_path\"] = (cropped_dir + \"\\\\\" + df_crop[\"Cropped_image_name\"]).apply(clean_path)\n",
    "            try:\n",
    "                df_crop=crop_images_batch_gpu(df_crop,512)\n",
    "            except:\n",
    "                df_crop = crop_images_batch(df_crop,512)\n",
    "                print(f\"Cropping exception occured\")\n",
    "        else:\n",
    "            df_crop = df_detections.copy()\n",
    "            df_crop[\"Cropped_image_directory\"] = cropped_dir\n",
    "            df_crop[\"Cropped_image_name\"] = df_crop[\"Filename\"] + \"_\" + df_crop[\"Detection_number\"].astype(str) + \".jpg\"\n",
    "            df_crop[\"Cropped_image_path\"] = (cropped_dir + \"\\\\\" + df_crop[\"Cropped_image_name\"]).apply(clean_path)\n",
    "            print(\"Images already cropped...\")\n",
    "        cropping_end = time.time()\n",
    "        cropping_time = str(timedelta(seconds=round(cropping_end - cropping_start)))\n",
    "        log.update({\"Cropping Time\" : cropping_time})\n",
    "        log.update({\"Number of Detections\" : len(df_detections)})\n",
    "        \n",
    "        ## ORDER LEVEL PREDICTIONS\n",
    "        \n",
    "        if os.path.exists(os.path.join(cropped_dir,r\"Ungulate\")) or os.path.exists(os.path.join(cropped_dir,r\"Small Carnivore\")) or os.path.exists(os.path.join(cropped_dir,r\"Others\")):\n",
    "            df_order = df_crop.copy()\n",
    "            df_order['Order_dir'] = np.nan\n",
    "            df_order['Order_level_path'] = np.nan\n",
    "            print(\"Order level classification already complete\")\n",
    "        else:\n",
    "            order_level_start = time.time()\n",
    "            print(\"Predicting Order Level Classes...\")\n",
    "            df_temp, num_cropped = predict_lower_level_species(data_dir, \n",
    "                                                               r\"Cropped_images\\*\", \n",
    "                                                               order_level_class_names,\n",
    "                                                               order_level_model,\n",
    "                                                               level = \"Order\")\n",
    "            \n",
    "            order_level_end = time.time()\n",
    "            df_order = pd.merge(df_crop, df_temp, on='Cropped_image_name', how='left')\n",
    "            df_order[\"Order_pred\"] = df_order[\"Order_pred\"].fillna(\"Error\")\n",
    "            df_order[\"Order_dir\"] = (cropped_dir + \"\\\\\" + df_order[\"Order_pred\"]).apply(clean_path)\n",
    "            df_order[\"Order_level_path\"] = (df_order[\"Order_dir\"] + \"\\\\\" + df_order[\"Cropped_image_name\"]).apply(clean_path)\n",
    "            \n",
    "            unique_directories = set(df_order['Order_dir'])\n",
    "            for directory in unique_directories:\n",
    "                os.makedirs(directory, exist_ok=True)\n",
    "            \n",
    "            print(\"Moving Order Level Images...\")\n",
    "            move_images_batch(df_order[\"Cropped_image_path\"], df_order[\"Order_level_path\"])\n",
    "            \n",
    "            order_shift_end = time.time()\n",
    "            order_pred_time = str(timedelta(seconds=round(order_level_end - order_level_start)))\n",
    "            order_shift_time = str(timedelta(seconds=round(order_shift_end - order_level_end)))\n",
    "            log.update({\"Order Level Prediction Time\" : order_shift_time})\n",
    "            log.update({\"Order Level Shifting Time\" : order_shift_time})\n",
    "        \n",
    "        ## SMALL CARNIVORES PREDICT\n",
    "        small_carnivores_start = time.time()\n",
    "        if os.path.exists(os.path.join(cropped_dir,r\"Small Carnivore\")) and len(os.listdir(os.path.join(cropped_dir,r\"Small Carnivore\"))) > 0:\n",
    "            print(\"Predicting Small Carnivores...\")\n",
    "            df_small_carnivore, num_small_carnivores = predict_lower_level_species(cropped_dir, \n",
    "                                                                                   r\"Small Carnivore\\*\", \n",
    "                                                                                   small_carnivores_class_names,\n",
    "                                                                                   small_carnivore_model,\n",
    "                                                                                   level = \"Species\")\n",
    "            df_small_carnivore[\"Order_pred\"] = r\"Small Carnivore\"\n",
    "            df_small_carnivore[\"Order_dir\"] = (cropped_dir + \"\\\\\" + df_small_carnivore[\"Order_pred\"]).apply(clean_path)\n",
    "            df_small_carnivore[\"Order_level_path\"] = (df_small_carnivore[\"Order_dir\"] + \"\\\\\" + df_small_carnivore[\"Cropped_image_name\"]).apply(clean_path)\n",
    "            small_carnivores_end = time.time()\n",
    "            small_carnivore_time = str(timedelta(seconds=round(small_carnivores_end - small_carnivores_start)))\n",
    "            log.update({\"Number of Small Carnivores Images\" : num_small_carnivores})\n",
    "            log.update({\"Small Carnivore Model Pred Time\" : small_carnivore_time})\n",
    "        else:\n",
    "            df_small_carnivore = pd.DataFrame(columns=['Cropped_image_name','Species_pred','Species_pred_prob'])\n",
    "       \n",
    "        ## UNGULATES PREDICT\n",
    "\n",
    "        if os.path.exists(os.path.join(cropped_dir,r\"Ungulate\")) and len(os.listdir(os.path.join(cropped_dir,r\"Ungulate\"))) > 0 and not os.path.exists(os.path.join(cropped_dir,r\"Cattle\")):\n",
    "            ungulate_start = time.time()\n",
    "            print(\"Predicting Ungulates...\")\n",
    "            df_ungulate, num_ungulates = predict_lower_level_species(cropped_dir, \n",
    "                                                                     r\"Ungulate\\*\", \n",
    "                                                                     ungulate_class_names,\n",
    "                                                                     ungulate_model,\n",
    "                                                                     level = \"Species\")\n",
    "            df_ungulate[\"Order_pred\"] = r\"Ungulate\"\n",
    "            df_ungulate[\"Order_dir\"] = (cropped_dir + \"\\\\\" + df_ungulate[\"Order_pred\"]).apply(clean_path)\n",
    "            df_ungulate[\"Order_level_path\"] = (df_ungulate[\"Order_dir\"] + \"\\\\\" + df_ungulate[\"Cropped_image_name\"]).apply(clean_path)\n",
    "            ungulate_end = time.time()\n",
    "            ungulate_time = str(timedelta(seconds=round(ungulate_end - ungulate_start)))\n",
    "            log.update({\"Number of Ungulates Images\" : num_ungulates})\n",
    "            log.update({\"Ungulate Model Pred Time\" : ungulate_time})\n",
    "        else:\n",
    "            df_ungulate = pd.DataFrame(columns=['Cropped_image_name','Species_pred','Species_pred_prob'])\n",
    "        \n",
    "        species_shift_start = time.time()\n",
    "        df_species = pd.concat([df_small_carnivore,df_ungulate])\n",
    "        df_species[\"Species_dir\"] = (cropped_dir + \"\\\\\" + df_species[\"Species_pred\"]).apply(clean_path)\n",
    "        df_species[\"Species_level_path\"] = (df_species[\"Species_dir\"] + \"\\\\\" + df_species[\"Cropped_image_name\"]).apply(clean_path)\n",
    "        \n",
    "        #df_move = pd.merge(df_species, df_order, on='Cropped_image_name', how='left')\n",
    "        try:\n",
    "            df_move = df_species[df_species[\"Order_level_path\"] != df_species[\"Species_level_path\"]]\n",
    "            unique_directories = set(df_move['Species_dir'])\n",
    "            for directory in unique_directories:\n",
    "                os.makedirs(directory, exist_ok=True)\n",
    "            print(\"Moving Ungulates and Small Carnivores...\")\n",
    "            #copy_images_batch(df_move[\"Order_level_path\"], df_move[\"Species_level_path\"])\n",
    "            #delete_images_batch(df_move[\"Order_level_path\"])\n",
    "            move_images_batch(df_move[\"Order_level_path\"], df_move[\"Species_level_path\"])\n",
    "        except:\n",
    "            print(\"No files to move\")\n",
    "            \n",
    "        species_shift_end = time.time()\n",
    "        species_shift_time = str(timedelta(seconds=round(species_shift_end - species_shift_start)))\n",
    "        species_level_time = str(timedelta(seconds=round(species_shift_end - small_carnivores_start)))\n",
    "        log.update({\"Species Level Shift Imgs Time\" : species_shift_time})\n",
    "        log.update({\"Species Level Predict and Shift\" : species_level_time})\n",
    "        \n",
    "        ## SAVE FINAL PREDICTIONS.CSV\n",
    "        if os.path.exists(os.path.join(data_dir,r\"predictions.csv\")):\n",
    "            predictions = pd.read_csv(os.path.join(data_dir,r\"predictions.csv\"))\n",
    "            preds = predictions.copy().dropna()\n",
    "            preds_all = pd.concat([preds,df_species[~df_species[\"Cropped_image_name\"].isin(preds[\"Cropped_image_name\"].tolist())]])\n",
    "            preds_all = preds_all[[\"Cropped_image_name\",\"Species_pred\",\"Species_pred_prob\",\"Species_dir\",\"Species_level_path\"]]\n",
    "            predictions.drop(columns = [\"Species_pred\",\"Species_pred_prob\",\"Species_dir\",\"Species_level_path\"], inplace = True)\n",
    "            df_final = pd.merge(predictions, preds_all, how='left', on = \"Cropped_image_name\")\n",
    "        else:\n",
    "            try:\n",
    "                df_final = pd.merge(df_order, df_species.drop(columns=['Order_pred','Order_dir', 'Order_level_path']), on='Cropped_image_name', how='left')\n",
    "            except:\n",
    "                df_final = pd.merge(df_order, df_species, on='Cropped_image_name', how='left')\n",
    "            df_final.drop(columns=['Order_dir', 'Order_level_path','Cropped_image_path'], inplace=True)\n",
    "        df_final_path = os.path.join(data_dir, \"predictions.csv\")\n",
    "        df_final.to_csv(df_final_path, index=False)\n",
    "        \n",
    "        ## SAVE LOG FILE\n",
    "        print(\"Saving Logs\")\n",
    "        log_file_name = \"_\".join(data_dir.split(\"\\\\\")[-3:])\n",
    "        log_file_path = os.path.join(data_dir, f\"{log_file_name}_log.json\")\n",
    "        with open(log_file_path, \"w\") as f:\n",
    "            json.dump(log, f, indent=2)\n",
    "        gc.collect()"
   ]
  },
  {
   "cell_type": "code",
   "execution_count": 10,
   "id": "76dd330c-e09f-4565-9725-3e20e8685fbb",
   "metadata": {},
   "outputs": [
    {
     "data": {
      "text/plain": [
       "'C:\\\\Users\\\\DELL\\\\Downloads\\\\Dest\\\\20240611_033225__to__20240617_215346'"
      ]
     },
     "execution_count": 10,
     "metadata": {},
     "output_type": "execute_result"
    }
   ],
   "source": []
  },
  {
   "cell_type": "code",
   "execution_count": 12,
   "id": "01d16a2b-cb03-49e8-8c5e-aaa78959593b",
   "metadata": {},
   "outputs": [
    {
     "name": "stdout",
     "output_type": "stream",
     "text": [
      "PyTorch reports 1 available CUDA devices\n",
      "GPU available: True\n",
      "Imported YOLOv5 as utils.*\n",
      "Using PyTorch version 1.10.1\n"
     ]
    },
    {
     "name": "stderr",
     "output_type": "stream",
     "text": [
      "Fusing layers... \n",
      "Fusing layers... \n",
      "Model summary: 733 layers, 140054656 parameters, 0 gradients, 208.8 GFLOPs\n",
      "Model summary: 733 layers, 140054656 parameters, 0 gradients, 208.8 GFLOPs\n"
     ]
    },
    {
     "name": "stdout",
     "output_type": "stream",
     "text": [
      "Sending model to GPU\n",
      "Loaded model in 5.91 seconds\n",
      "Loaded model in 5.91 seconds\n"
     ]
    },
    {
     "name": "stderr",
     "output_type": "stream",
     "text": [
      "  0%|                                                                                          | 0/185 [00:00<?, ?it/s]"
     ]
    },
    {
     "name": "stdout",
     "output_type": "stream",
     "text": [
      "Processing image C:/Users/DELL/Downloads/Dest/20240611_033225__to__20240617_215346/I_00895a.JPG\n"
     ]
    },
    {
     "name": "stderr",
     "output_type": "stream",
     "text": [
      "WARNING: NMS time limit 0.330s exceeded\n",
      "WARNING: NMS time limit 0.330s exceeded\n",
      "  1%|▍                                                                                 | 1/185 [00:01<03:14,  1.06s/it]"
     ]
    },
    {
     "name": "stdout",
     "output_type": "stream",
     "text": [
      "Processing image C:/Users/DELL/Downloads/Dest/20240611_033225__to__20240617_215346/I_00895b.JPG\n"
     ]
    },
    {
     "name": "stderr",
     "output_type": "stream",
     "text": [
      "  1%|▉                                                                                 | 2/185 [00:01<01:46,  1.72it/s]"
     ]
    },
    {
     "name": "stdout",
     "output_type": "stream",
     "text": [
      "Processing image C:/Users/DELL/Downloads/Dest/20240611_033225__to__20240617_215346/I_00896a.JPG\n"
     ]
    },
    {
     "name": "stderr",
     "output_type": "stream",
     "text": [
      "  2%|█▎                                                                                | 3/185 [00:01<01:19,  2.30it/s]"
     ]
    },
    {
     "name": "stdout",
     "output_type": "stream",
     "text": [
      "Processing image C:/Users/DELL/Downloads/Dest/20240611_033225__to__20240617_215346/I_00896b.JPG\n"
     ]
    },
    {
     "name": "stderr",
     "output_type": "stream",
     "text": [
      "  2%|█▊                                                                                | 4/185 [00:01<01:07,  2.68it/s]"
     ]
    },
    {
     "name": "stdout",
     "output_type": "stream",
     "text": [
      "Processing image C:/Users/DELL/Downloads/Dest/20240611_033225__to__20240617_215346/I_00896c.JPG\n"
     ]
    },
    {
     "name": "stderr",
     "output_type": "stream",
     "text": [
      "  3%|██▏                                                                               | 5/185 [00:02<00:58,  3.07it/s]"
     ]
    },
    {
     "name": "stdout",
     "output_type": "stream",
     "text": [
      "Processing image C:/Users/DELL/Downloads/Dest/20240611_033225__to__20240617_215346/I_00897a.JPG\n"
     ]
    },
    {
     "name": "stderr",
     "output_type": "stream",
     "text": [
      "  3%|██▋                                                                               | 6/185 [00:02<00:53,  3.36it/s]"
     ]
    },
    {
     "name": "stdout",
     "output_type": "stream",
     "text": [
      "Processing image C:/Users/DELL/Downloads/Dest/20240611_033225__to__20240617_215346/I_00897b.JPG\n"
     ]
    },
    {
     "name": "stderr",
     "output_type": "stream",
     "text": [
      "  4%|███                                                                               | 7/185 [00:02<00:49,  3.59it/s]"
     ]
    },
    {
     "name": "stdout",
     "output_type": "stream",
     "text": [
      "Processing image C:/Users/DELL/Downloads/Dest/20240611_033225__to__20240617_215346/I_00897c.JPG\n"
     ]
    },
    {
     "name": "stderr",
     "output_type": "stream",
     "text": [
      "  4%|███▌                                                                              | 8/185 [00:02<00:46,  3.77it/s]"
     ]
    },
    {
     "name": "stdout",
     "output_type": "stream",
     "text": [
      "Processing image C:/Users/DELL/Downloads/Dest/20240611_033225__to__20240617_215346/I_00898a.JPG\n"
     ]
    },
    {
     "name": "stderr",
     "output_type": "stream",
     "text": [
      "  5%|███▉                                                                              | 9/185 [00:03<00:44,  3.94it/s]"
     ]
    },
    {
     "name": "stdout",
     "output_type": "stream",
     "text": [
      "Processing image C:/Users/DELL/Downloads/Dest/20240611_033225__to__20240617_215346/I_00898b.JPG\n"
     ]
    },
    {
     "name": "stderr",
     "output_type": "stream",
     "text": [
      "  5%|████▍                                                                            | 10/185 [00:03<00:43,  4.04it/s]"
     ]
    },
    {
     "name": "stdout",
     "output_type": "stream",
     "text": [
      "Processing image C:/Users/DELL/Downloads/Dest/20240611_033225__to__20240617_215346/I_00898c.JPG\n"
     ]
    },
    {
     "name": "stderr",
     "output_type": "stream",
     "text": [
      "  6%|████▊                                                                            | 11/185 [00:03<00:42,  4.13it/s]"
     ]
    },
    {
     "name": "stdout",
     "output_type": "stream",
     "text": [
      "Processing image C:/Users/DELL/Downloads/Dest/20240611_033225__to__20240617_215346/I_00899a.JPG\n"
     ]
    },
    {
     "name": "stderr",
     "output_type": "stream",
     "text": [
      "  6%|█████▎                                                                           | 12/185 [00:03<00:41,  4.19it/s]"
     ]
    },
    {
     "name": "stdout",
     "output_type": "stream",
     "text": [
      "Processing image C:/Users/DELL/Downloads/Dest/20240611_033225__to__20240617_215346/I_00899b.JPG\n"
     ]
    },
    {
     "name": "stderr",
     "output_type": "stream",
     "text": [
      "  7%|█████▋                                                                           | 13/185 [00:03<00:41,  4.17it/s]"
     ]
    },
    {
     "name": "stdout",
     "output_type": "stream",
     "text": [
      "Processing image C:/Users/DELL/Downloads/Dest/20240611_033225__to__20240617_215346/I_00899c.JPG\n"
     ]
    },
    {
     "name": "stderr",
     "output_type": "stream",
     "text": [
      "  8%|██████▏                                                                          | 14/185 [00:04<00:40,  4.23it/s]"
     ]
    },
    {
     "name": "stdout",
     "output_type": "stream",
     "text": [
      "Processing image C:/Users/DELL/Downloads/Dest/20240611_033225__to__20240617_215346/I_00900a.JPG\n"
     ]
    },
    {
     "name": "stderr",
     "output_type": "stream",
     "text": [
      "  8%|██████▌                                                                          | 15/185 [00:04<00:40,  4.21it/s]"
     ]
    },
    {
     "name": "stdout",
     "output_type": "stream",
     "text": [
      "Processing image C:/Users/DELL/Downloads/Dest/20240611_033225__to__20240617_215346/I_00900b.JPG\n"
     ]
    },
    {
     "name": "stderr",
     "output_type": "stream",
     "text": [
      "  9%|███████                                                                          | 16/185 [00:04<00:39,  4.27it/s]"
     ]
    },
    {
     "name": "stdout",
     "output_type": "stream",
     "text": [
      "Processing image C:/Users/DELL/Downloads/Dest/20240611_033225__to__20240617_215346/I_00900c.JPG\n"
     ]
    },
    {
     "name": "stderr",
     "output_type": "stream",
     "text": [
      "  9%|███████▍                                                                         | 17/185 [00:04<00:38,  4.33it/s]"
     ]
    },
    {
     "name": "stdout",
     "output_type": "stream",
     "text": [
      "Processing image C:/Users/DELL/Downloads/Dest/20240611_033225__to__20240617_215346/I_00901a.JPG\n"
     ]
    },
    {
     "name": "stderr",
     "output_type": "stream",
     "text": [
      " 10%|███████▉                                                                         | 18/185 [00:05<00:38,  4.32it/s]"
     ]
    },
    {
     "name": "stdout",
     "output_type": "stream",
     "text": [
      "Processing image C:/Users/DELL/Downloads/Dest/20240611_033225__to__20240617_215346/I_00901b.JPG\n"
     ]
    },
    {
     "name": "stderr",
     "output_type": "stream",
     "text": [
      " 10%|████████▎                                                                        | 19/185 [00:05<00:38,  4.29it/s]"
     ]
    },
    {
     "name": "stdout",
     "output_type": "stream",
     "text": [
      "Processing image C:/Users/DELL/Downloads/Dest/20240611_033225__to__20240617_215346/I_00901c.JPG\n"
     ]
    },
    {
     "name": "stderr",
     "output_type": "stream",
     "text": [
      " 11%|████████▊                                                                        | 20/185 [00:05<00:38,  4.26it/s]"
     ]
    },
    {
     "name": "stdout",
     "output_type": "stream",
     "text": [
      "Processing image C:/Users/DELL/Downloads/Dest/20240611_033225__to__20240617_215346/I_00902a.JPG\n"
     ]
    },
    {
     "name": "stderr",
     "output_type": "stream",
     "text": [
      " 11%|█████████▏                                                                       | 21/185 [00:05<00:38,  4.23it/s]"
     ]
    },
    {
     "name": "stdout",
     "output_type": "stream",
     "text": [
      "Processing image C:/Users/DELL/Downloads/Dest/20240611_033225__to__20240617_215346/I_00902b.JPG\n"
     ]
    },
    {
     "name": "stderr",
     "output_type": "stream",
     "text": [
      " 12%|█████████▋                                                                       | 22/185 [00:06<00:38,  4.25it/s]"
     ]
    },
    {
     "name": "stdout",
     "output_type": "stream",
     "text": [
      "Processing image C:/Users/DELL/Downloads/Dest/20240611_033225__to__20240617_215346/I_00902c.JPG\n"
     ]
    },
    {
     "name": "stderr",
     "output_type": "stream",
     "text": [
      " 12%|██████████                                                                       | 23/185 [00:06<00:37,  4.28it/s]"
     ]
    },
    {
     "name": "stdout",
     "output_type": "stream",
     "text": [
      "Processing image C:/Users/DELL/Downloads/Dest/20240611_033225__to__20240617_215346/I_00903a.JPG\n"
     ]
    },
    {
     "name": "stderr",
     "output_type": "stream",
     "text": [
      " 13%|██████████▌                                                                      | 24/185 [00:06<00:38,  4.22it/s]"
     ]
    },
    {
     "name": "stdout",
     "output_type": "stream",
     "text": [
      "Processing image C:/Users/DELL/Downloads/Dest/20240611_033225__to__20240617_215346/I_00903b.JPG\n"
     ]
    },
    {
     "name": "stderr",
     "output_type": "stream",
     "text": [
      " 14%|██████████▉                                                                      | 25/185 [00:06<00:37,  4.29it/s]"
     ]
    },
    {
     "name": "stdout",
     "output_type": "stream",
     "text": [
      "Processing image C:/Users/DELL/Downloads/Dest/20240611_033225__to__20240617_215346/I_00903c.JPG\n"
     ]
    },
    {
     "name": "stderr",
     "output_type": "stream",
     "text": [
      " 14%|███████████▍                                                                     | 26/185 [00:07<00:37,  4.29it/s]"
     ]
    },
    {
     "name": "stdout",
     "output_type": "stream",
     "text": [
      "Processing image C:/Users/DELL/Downloads/Dest/20240611_033225__to__20240617_215346/I_00904a.JPG\n"
     ]
    },
    {
     "name": "stderr",
     "output_type": "stream",
     "text": [
      " 15%|███████████▊                                                                     | 27/185 [00:07<00:37,  4.25it/s]"
     ]
    },
    {
     "name": "stdout",
     "output_type": "stream",
     "text": [
      "Processing image C:/Users/DELL/Downloads/Dest/20240611_033225__to__20240617_215346/I_00904b.JPG\n"
     ]
    },
    {
     "name": "stderr",
     "output_type": "stream",
     "text": [
      " 15%|████████████▎                                                                    | 28/185 [00:07<00:36,  4.24it/s]"
     ]
    },
    {
     "name": "stdout",
     "output_type": "stream",
     "text": [
      "Processing image C:/Users/DELL/Downloads/Dest/20240611_033225__to__20240617_215346/I_00904c.JPG\n"
     ]
    },
    {
     "name": "stderr",
     "output_type": "stream",
     "text": [
      " 16%|████████████▋                                                                    | 29/185 [00:07<00:36,  4.30it/s]"
     ]
    },
    {
     "name": "stdout",
     "output_type": "stream",
     "text": [
      "Processing image C:/Users/DELL/Downloads/Dest/20240611_033225__to__20240617_215346/I_00905a.JPG\n"
     ]
    },
    {
     "name": "stderr",
     "output_type": "stream",
     "text": [
      " 16%|█████████████▏                                                                   | 30/185 [00:07<00:36,  4.27it/s]"
     ]
    },
    {
     "name": "stdout",
     "output_type": "stream",
     "text": [
      "Processing image C:/Users/DELL/Downloads/Dest/20240611_033225__to__20240617_215346/I_00905b.JPG\n"
     ]
    },
    {
     "name": "stderr",
     "output_type": "stream",
     "text": [
      " 17%|█████████████▌                                                                   | 31/185 [00:08<00:36,  4.26it/s]"
     ]
    },
    {
     "name": "stdout",
     "output_type": "stream",
     "text": [
      "Processing image C:/Users/DELL/Downloads/Dest/20240611_033225__to__20240617_215346/I_00905c.JPG\n"
     ]
    },
    {
     "name": "stderr",
     "output_type": "stream",
     "text": [
      " 17%|██████████████                                                                   | 32/185 [00:08<00:36,  4.22it/s]"
     ]
    },
    {
     "name": "stdout",
     "output_type": "stream",
     "text": [
      "Processing image C:/Users/DELL/Downloads/Dest/20240611_033225__to__20240617_215346/I_00906a.JPG\n"
     ]
    },
    {
     "name": "stderr",
     "output_type": "stream",
     "text": [
      " 18%|██████████████▍                                                                  | 33/185 [00:08<00:35,  4.24it/s]"
     ]
    },
    {
     "name": "stdout",
     "output_type": "stream",
     "text": [
      "Processing image C:/Users/DELL/Downloads/Dest/20240611_033225__to__20240617_215346/I_00906b.JPG\n"
     ]
    },
    {
     "name": "stderr",
     "output_type": "stream",
     "text": [
      " 18%|██████████████▉                                                                  | 34/185 [00:08<00:35,  4.28it/s]"
     ]
    },
    {
     "name": "stdout",
     "output_type": "stream",
     "text": [
      "Processing image C:/Users/DELL/Downloads/Dest/20240611_033225__to__20240617_215346/I_00906c.JPG\n"
     ]
    },
    {
     "name": "stderr",
     "output_type": "stream",
     "text": [
      " 19%|███████████████▎                                                                 | 35/185 [00:09<00:34,  4.33it/s]"
     ]
    },
    {
     "name": "stdout",
     "output_type": "stream",
     "text": [
      "Processing image C:/Users/DELL/Downloads/Dest/20240611_033225__to__20240617_215346/I_00907a.JPG\n"
     ]
    },
    {
     "name": "stderr",
     "output_type": "stream",
     "text": [
      " 19%|███████████████▊                                                                 | 36/185 [00:09<00:34,  4.34it/s]"
     ]
    },
    {
     "name": "stdout",
     "output_type": "stream",
     "text": [
      "Processing image C:/Users/DELL/Downloads/Dest/20240611_033225__to__20240617_215346/I_00907b.JPG\n"
     ]
    },
    {
     "name": "stderr",
     "output_type": "stream",
     "text": [
      " 20%|████████████████▏                                                                | 37/185 [00:09<00:34,  4.24it/s]"
     ]
    },
    {
     "name": "stdout",
     "output_type": "stream",
     "text": [
      "Processing image C:/Users/DELL/Downloads/Dest/20240611_033225__to__20240617_215346/I_00907c.JPG\n"
     ]
    },
    {
     "name": "stderr",
     "output_type": "stream",
     "text": [
      " 21%|████████████████▋                                                                | 38/185 [00:09<00:35,  4.16it/s]"
     ]
    },
    {
     "name": "stdout",
     "output_type": "stream",
     "text": [
      "Processing image C:/Users/DELL/Downloads/Dest/20240611_033225__to__20240617_215346/I_00908a.JPG\n"
     ]
    },
    {
     "name": "stderr",
     "output_type": "stream",
     "text": [
      " 21%|█████████████████                                                                | 39/185 [00:10<00:35,  4.12it/s]"
     ]
    },
    {
     "name": "stdout",
     "output_type": "stream",
     "text": [
      "Processing image C:/Users/DELL/Downloads/Dest/20240611_033225__to__20240617_215346/I_00908b.JPG\n"
     ]
    },
    {
     "name": "stderr",
     "output_type": "stream",
     "text": [
      " 22%|█████████████████▌                                                               | 40/185 [00:10<00:34,  4.19it/s]"
     ]
    },
    {
     "name": "stdout",
     "output_type": "stream",
     "text": [
      "Processing image C:/Users/DELL/Downloads/Dest/20240611_033225__to__20240617_215346/I_00908c.JPG\n"
     ]
    },
    {
     "name": "stderr",
     "output_type": "stream",
     "text": [
      " 22%|█████████████████▉                                                               | 41/185 [00:10<00:33,  4.26it/s]"
     ]
    },
    {
     "name": "stdout",
     "output_type": "stream",
     "text": [
      "Processing image C:/Users/DELL/Downloads/Dest/20240611_033225__to__20240617_215346/I_00909a.JPG\n"
     ]
    },
    {
     "name": "stderr",
     "output_type": "stream",
     "text": [
      " 23%|██████████████████▍                                                              | 42/185 [00:10<00:32,  4.34it/s]"
     ]
    },
    {
     "name": "stdout",
     "output_type": "stream",
     "text": [
      "Processing image C:/Users/DELL/Downloads/Dest/20240611_033225__to__20240617_215346/I_00909b.JPG\n"
     ]
    },
    {
     "name": "stderr",
     "output_type": "stream",
     "text": [
      " 23%|██████████████████▊                                                              | 43/185 [00:11<00:33,  4.24it/s]"
     ]
    },
    {
     "name": "stdout",
     "output_type": "stream",
     "text": [
      "Processing image C:/Users/DELL/Downloads/Dest/20240611_033225__to__20240617_215346/I_00909c.JPG\n"
     ]
    },
    {
     "name": "stderr",
     "output_type": "stream",
     "text": [
      " 24%|███████████████████▎                                                             | 44/185 [00:11<00:33,  4.25it/s]"
     ]
    },
    {
     "name": "stdout",
     "output_type": "stream",
     "text": [
      "Processing image C:/Users/DELL/Downloads/Dest/20240611_033225__to__20240617_215346/I_00910a.JPG\n"
     ]
    },
    {
     "name": "stderr",
     "output_type": "stream",
     "text": [
      " 24%|███████████████████▋                                                             | 45/185 [00:11<00:33,  4.17it/s]"
     ]
    },
    {
     "name": "stdout",
     "output_type": "stream",
     "text": [
      "Processing image C:/Users/DELL/Downloads/Dest/20240611_033225__to__20240617_215346/I_00910b.JPG\n"
     ]
    },
    {
     "name": "stderr",
     "output_type": "stream",
     "text": [
      " 25%|████████████████████▏                                                            | 46/185 [00:11<00:32,  4.25it/s]"
     ]
    },
    {
     "name": "stdout",
     "output_type": "stream",
     "text": [
      "Processing image C:/Users/DELL/Downloads/Dest/20240611_033225__to__20240617_215346/I_00910c.JPG\n"
     ]
    },
    {
     "name": "stderr",
     "output_type": "stream",
     "text": [
      " 25%|████████████████████▌                                                            | 47/185 [00:11<00:32,  4.30it/s]"
     ]
    },
    {
     "name": "stdout",
     "output_type": "stream",
     "text": [
      "Processing image C:/Users/DELL/Downloads/Dest/20240611_033225__to__20240617_215346/I_00911a.JPG\n"
     ]
    },
    {
     "name": "stderr",
     "output_type": "stream",
     "text": [
      " 26%|█████████████████████                                                            | 48/185 [00:12<00:31,  4.41it/s]"
     ]
    },
    {
     "name": "stdout",
     "output_type": "stream",
     "text": [
      "Processing image C:/Users/DELL/Downloads/Dest/20240611_033225__to__20240617_215346/I_00911b.JPG\n"
     ]
    },
    {
     "name": "stderr",
     "output_type": "stream",
     "text": [
      " 26%|█████████████████████▍                                                           | 49/185 [00:12<00:31,  4.34it/s]"
     ]
    },
    {
     "name": "stdout",
     "output_type": "stream",
     "text": [
      "Processing image C:/Users/DELL/Downloads/Dest/20240611_033225__to__20240617_215346/I_00911c.JPG\n"
     ]
    },
    {
     "name": "stderr",
     "output_type": "stream",
     "text": [
      " 27%|█████████████████████▉                                                           | 50/185 [00:12<00:31,  4.34it/s]"
     ]
    },
    {
     "name": "stdout",
     "output_type": "stream",
     "text": [
      "Processing image C:/Users/DELL/Downloads/Dest/20240611_033225__to__20240617_215346/I_00912a.JPG\n"
     ]
    },
    {
     "name": "stderr",
     "output_type": "stream",
     "text": [
      " 28%|██████████████████████▎                                                          | 51/185 [00:12<00:30,  4.37it/s]"
     ]
    },
    {
     "name": "stdout",
     "output_type": "stream",
     "text": [
      "Processing image C:/Users/DELL/Downloads/Dest/20240611_033225__to__20240617_215346/I_00912b.JPG\n"
     ]
    },
    {
     "name": "stderr",
     "output_type": "stream",
     "text": [
      " 28%|██████████████████████▊                                                          | 52/185 [00:13<00:30,  4.33it/s]"
     ]
    },
    {
     "name": "stdout",
     "output_type": "stream",
     "text": [
      "Processing image C:/Users/DELL/Downloads/Dest/20240611_033225__to__20240617_215346/I_00912c.JPG\n"
     ]
    },
    {
     "name": "stderr",
     "output_type": "stream",
     "text": [
      " 29%|███████████████████████▏                                                         | 53/185 [00:13<00:30,  4.33it/s]"
     ]
    },
    {
     "name": "stdout",
     "output_type": "stream",
     "text": [
      "Processing image C:/Users/DELL/Downloads/Dest/20240611_033225__to__20240617_215346/I_00913a.JPG\n"
     ]
    },
    {
     "name": "stderr",
     "output_type": "stream",
     "text": [
      " 29%|███████████████████████▋                                                         | 54/185 [00:13<00:30,  4.32it/s]"
     ]
    },
    {
     "name": "stdout",
     "output_type": "stream",
     "text": [
      "Processing image C:/Users/DELL/Downloads/Dest/20240611_033225__to__20240617_215346/I_00913b.JPG\n"
     ]
    },
    {
     "name": "stderr",
     "output_type": "stream",
     "text": [
      " 30%|████████████████████████                                                         | 55/185 [00:13<00:29,  4.36it/s]"
     ]
    },
    {
     "name": "stdout",
     "output_type": "stream",
     "text": [
      "Processing image C:/Users/DELL/Downloads/Dest/20240611_033225__to__20240617_215346/I_00913c.JPG\n"
     ]
    },
    {
     "name": "stderr",
     "output_type": "stream",
     "text": [
      " 30%|████████████████████████▌                                                        | 56/185 [00:13<00:29,  4.40it/s]"
     ]
    },
    {
     "name": "stdout",
     "output_type": "stream",
     "text": [
      "Processing image C:/Users/DELL/Downloads/Dest/20240611_033225__to__20240617_215346/I_00914a.JPG\n"
     ]
    },
    {
     "name": "stderr",
     "output_type": "stream",
     "text": [
      " 31%|████████████████████████▉                                                        | 57/185 [00:14<00:28,  4.49it/s]"
     ]
    },
    {
     "name": "stdout",
     "output_type": "stream",
     "text": [
      "Processing image C:/Users/DELL/Downloads/Dest/20240611_033225__to__20240617_215346/I_00914b.JPG\n"
     ]
    },
    {
     "name": "stderr",
     "output_type": "stream",
     "text": [
      " 31%|█████████████████████████▍                                                       | 58/185 [00:14<00:28,  4.39it/s]"
     ]
    },
    {
     "name": "stdout",
     "output_type": "stream",
     "text": [
      "Processing image C:/Users/DELL/Downloads/Dest/20240611_033225__to__20240617_215346/I_00914c.JPG\n"
     ]
    },
    {
     "name": "stderr",
     "output_type": "stream",
     "text": [
      " 32%|█████████████████████████▊                                                       | 59/185 [00:14<00:28,  4.40it/s]"
     ]
    },
    {
     "name": "stdout",
     "output_type": "stream",
     "text": [
      "Processing image C:/Users/DELL/Downloads/Dest/20240611_033225__to__20240617_215346/I_00915a.JPG\n"
     ]
    },
    {
     "name": "stderr",
     "output_type": "stream",
     "text": [
      " 32%|██████████████████████████▎                                                      | 60/185 [00:14<00:28,  4.38it/s]"
     ]
    },
    {
     "name": "stdout",
     "output_type": "stream",
     "text": [
      "Processing image C:/Users/DELL/Downloads/Dest/20240611_033225__to__20240617_215346/I_00915b.JPG\n"
     ]
    },
    {
     "name": "stderr",
     "output_type": "stream",
     "text": [
      " 33%|██████████████████████████▋                                                      | 61/185 [00:15<00:28,  4.38it/s]"
     ]
    },
    {
     "name": "stdout",
     "output_type": "stream",
     "text": [
      "Processing image C:/Users/DELL/Downloads/Dest/20240611_033225__to__20240617_215346/I_00915c.JPG\n"
     ]
    },
    {
     "name": "stderr",
     "output_type": "stream",
     "text": [
      " 34%|███████████████████████████▏                                                     | 62/185 [00:15<00:28,  4.37it/s]"
     ]
    },
    {
     "name": "stdout",
     "output_type": "stream",
     "text": [
      "Processing image C:/Users/DELL/Downloads/Dest/20240611_033225__to__20240617_215346/I_00916a.JPG\n"
     ]
    },
    {
     "name": "stderr",
     "output_type": "stream",
     "text": [
      " 34%|███████████████████████████▌                                                     | 63/185 [00:15<00:28,  4.33it/s]"
     ]
    },
    {
     "name": "stdout",
     "output_type": "stream",
     "text": [
      "Processing image C:/Users/DELL/Downloads/Dest/20240611_033225__to__20240617_215346/I_00916b.JPG\n"
     ]
    },
    {
     "name": "stderr",
     "output_type": "stream",
     "text": [
      " 35%|████████████████████████████                                                     | 64/185 [00:15<00:27,  4.39it/s]"
     ]
    },
    {
     "name": "stdout",
     "output_type": "stream",
     "text": [
      "Processing image C:/Users/DELL/Downloads/Dest/20240611_033225__to__20240617_215346/I_00916c.JPG\n"
     ]
    },
    {
     "name": "stderr",
     "output_type": "stream",
     "text": [
      " 35%|████████████████████████████▍                                                    | 65/185 [00:16<00:26,  4.48it/s]"
     ]
    },
    {
     "name": "stdout",
     "output_type": "stream",
     "text": [
      "Processing image C:/Users/DELL/Downloads/Dest/20240611_033225__to__20240617_215346/I_00917a.JPG\n"
     ]
    },
    {
     "name": "stderr",
     "output_type": "stream",
     "text": [
      " 36%|████████████████████████████▉                                                    | 66/185 [00:16<00:26,  4.47it/s]"
     ]
    },
    {
     "name": "stdout",
     "output_type": "stream",
     "text": [
      "Processing image C:/Users/DELL/Downloads/Dest/20240611_033225__to__20240617_215346/I_00917b.JPG\n"
     ]
    },
    {
     "name": "stderr",
     "output_type": "stream",
     "text": [
      " 36%|█████████████████████████████▎                                                   | 67/185 [00:16<00:26,  4.38it/s]"
     ]
    },
    {
     "name": "stdout",
     "output_type": "stream",
     "text": [
      "Processing image C:/Users/DELL/Downloads/Dest/20240611_033225__to__20240617_215346/I_00917c.JPG\n"
     ]
    },
    {
     "name": "stderr",
     "output_type": "stream",
     "text": [
      " 37%|█████████████████████████████▊                                                   | 68/185 [00:16<00:26,  4.34it/s]"
     ]
    },
    {
     "name": "stdout",
     "output_type": "stream",
     "text": [
      "Processing image C:/Users/DELL/Downloads/Dest/20240611_033225__to__20240617_215346/I_00918a.JPG\n"
     ]
    },
    {
     "name": "stderr",
     "output_type": "stream",
     "text": [
      " 37%|██████████████████████████████▏                                                  | 69/185 [00:16<00:26,  4.41it/s]"
     ]
    },
    {
     "name": "stdout",
     "output_type": "stream",
     "text": [
      "Processing image C:/Users/DELL/Downloads/Dest/20240611_033225__to__20240617_215346/I_00918b.JPG\n"
     ]
    },
    {
     "name": "stderr",
     "output_type": "stream",
     "text": [
      " 38%|██████████████████████████████▋                                                  | 70/185 [00:17<00:26,  4.32it/s]"
     ]
    },
    {
     "name": "stdout",
     "output_type": "stream",
     "text": [
      "Processing image C:/Users/DELL/Downloads/Dest/20240611_033225__to__20240617_215346/I_00918c.JPG\n"
     ]
    },
    {
     "name": "stderr",
     "output_type": "stream",
     "text": [
      " 38%|███████████████████████████████                                                  | 71/185 [00:17<00:26,  4.35it/s]"
     ]
    },
    {
     "name": "stdout",
     "output_type": "stream",
     "text": [
      "Processing image C:/Users/DELL/Downloads/Dest/20240611_033225__to__20240617_215346/I_00919a.JPG\n"
     ]
    },
    {
     "name": "stderr",
     "output_type": "stream",
     "text": [
      " 39%|███████████████████████████████▌                                                 | 72/185 [00:17<00:26,  4.31it/s]"
     ]
    },
    {
     "name": "stdout",
     "output_type": "stream",
     "text": [
      "Processing image C:/Users/DELL/Downloads/Dest/20240611_033225__to__20240617_215346/I_00919b.JPG\n"
     ]
    },
    {
     "name": "stderr",
     "output_type": "stream",
     "text": [
      " 39%|███████████████████████████████▉                                                 | 73/185 [00:17<00:26,  4.29it/s]"
     ]
    },
    {
     "name": "stdout",
     "output_type": "stream",
     "text": [
      "Processing image C:/Users/DELL/Downloads/Dest/20240611_033225__to__20240617_215346/I_00919c.JPG\n"
     ]
    },
    {
     "name": "stderr",
     "output_type": "stream",
     "text": [
      " 40%|████████████████████████████████▍                                                | 74/185 [00:18<00:26,  4.25it/s]"
     ]
    },
    {
     "name": "stdout",
     "output_type": "stream",
     "text": [
      "Processing image C:/Users/DELL/Downloads/Dest/20240611_033225__to__20240617_215346/I_00920a.JPG\n"
     ]
    },
    {
     "name": "stderr",
     "output_type": "stream",
     "text": [
      " 41%|████████████████████████████████▊                                                | 75/185 [00:18<00:25,  4.31it/s]"
     ]
    },
    {
     "name": "stdout",
     "output_type": "stream",
     "text": [
      "Processing image C:/Users/DELL/Downloads/Dest/20240611_033225__to__20240617_215346/I_00920b.JPG\n"
     ]
    },
    {
     "name": "stderr",
     "output_type": "stream",
     "text": [
      " 41%|█████████████████████████████████▎                                               | 76/185 [00:18<00:25,  4.28it/s]"
     ]
    },
    {
     "name": "stdout",
     "output_type": "stream",
     "text": [
      "Processing image C:/Users/DELL/Downloads/Dest/20240611_033225__to__20240617_215346/I_00920c.JPG\n"
     ]
    },
    {
     "name": "stderr",
     "output_type": "stream",
     "text": [
      " 42%|█████████████████████████████████▋                                               | 77/185 [00:18<00:25,  4.27it/s]"
     ]
    },
    {
     "name": "stdout",
     "output_type": "stream",
     "text": [
      "Processing image C:/Users/DELL/Downloads/Dest/20240611_033225__to__20240617_215346/I_00921a.JPG\n"
     ]
    },
    {
     "name": "stderr",
     "output_type": "stream",
     "text": [
      " 42%|██████████████████████████████████▏                                              | 78/185 [00:19<00:25,  4.26it/s]"
     ]
    },
    {
     "name": "stdout",
     "output_type": "stream",
     "text": [
      "Processing image C:/Users/DELL/Downloads/Dest/20240611_033225__to__20240617_215346/I_00921b.JPG\n"
     ]
    },
    {
     "name": "stderr",
     "output_type": "stream",
     "text": [
      " 43%|██████████████████████████████████▌                                              | 79/185 [00:19<00:25,  4.19it/s]"
     ]
    },
    {
     "name": "stdout",
     "output_type": "stream",
     "text": [
      "Processing image C:/Users/DELL/Downloads/Dest/20240611_033225__to__20240617_215346/I_00921c.JPG\n"
     ]
    },
    {
     "name": "stderr",
     "output_type": "stream",
     "text": [
      " 43%|███████████████████████████████████                                              | 80/185 [00:19<00:25,  4.07it/s]"
     ]
    },
    {
     "name": "stdout",
     "output_type": "stream",
     "text": [
      "Processing image C:/Users/DELL/Downloads/Dest/20240611_033225__to__20240617_215346/I_00922a.JPG\n"
     ]
    },
    {
     "name": "stderr",
     "output_type": "stream",
     "text": [
      " 44%|███████████████████████████████████▍                                             | 81/185 [00:19<00:25,  4.10it/s]"
     ]
    },
    {
     "name": "stdout",
     "output_type": "stream",
     "text": [
      "Processing image C:/Users/DELL/Downloads/Dest/20240611_033225__to__20240617_215346/I_00922b.JPG\n"
     ]
    },
    {
     "name": "stderr",
     "output_type": "stream",
     "text": [
      " 44%|███████████████████████████████████▉                                             | 82/185 [00:20<00:24,  4.14it/s]"
     ]
    },
    {
     "name": "stdout",
     "output_type": "stream",
     "text": [
      "Processing image C:/Users/DELL/Downloads/Dest/20240611_033225__to__20240617_215346/I_00922c.JPG\n"
     ]
    },
    {
     "name": "stderr",
     "output_type": "stream",
     "text": [
      " 45%|████████████████████████████████████▎                                            | 83/185 [00:20<00:24,  4.20it/s]"
     ]
    },
    {
     "name": "stdout",
     "output_type": "stream",
     "text": [
      "Processing image C:/Users/DELL/Downloads/Dest/20240611_033225__to__20240617_215346/I_00923a.JPG\n"
     ]
    },
    {
     "name": "stderr",
     "output_type": "stream",
     "text": [
      " 45%|████████████████████████████████████▊                                            | 84/185 [00:20<00:23,  4.29it/s]"
     ]
    },
    {
     "name": "stdout",
     "output_type": "stream",
     "text": [
      "Processing image C:/Users/DELL/Downloads/Dest/20240611_033225__to__20240617_215346/I_00923b.JPG\n"
     ]
    },
    {
     "name": "stderr",
     "output_type": "stream",
     "text": [
      " 46%|█████████████████████████████████████▏                                           | 85/185 [00:20<00:23,  4.27it/s]"
     ]
    },
    {
     "name": "stdout",
     "output_type": "stream",
     "text": [
      "Processing image C:/Users/DELL/Downloads/Dest/20240611_033225__to__20240617_215346/I_00923c.JPG\n"
     ]
    },
    {
     "name": "stderr",
     "output_type": "stream",
     "text": [
      " 46%|█████████████████████████████████████▋                                           | 86/185 [00:20<00:23,  4.26it/s]"
     ]
    },
    {
     "name": "stdout",
     "output_type": "stream",
     "text": [
      "Processing image C:/Users/DELL/Downloads/Dest/20240611_033225__to__20240617_215346/I_00924a.JPG\n"
     ]
    },
    {
     "name": "stderr",
     "output_type": "stream",
     "text": [
      " 47%|██████████████████████████████████████                                           | 87/185 [00:21<00:23,  4.18it/s]"
     ]
    },
    {
     "name": "stdout",
     "output_type": "stream",
     "text": [
      "Processing image C:/Users/DELL/Downloads/Dest/20240611_033225__to__20240617_215346/I_00924b.JPG\n"
     ]
    },
    {
     "name": "stderr",
     "output_type": "stream",
     "text": [
      " 48%|██████████████████████████████████████▌                                          | 88/185 [00:21<00:23,  4.18it/s]"
     ]
    },
    {
     "name": "stdout",
     "output_type": "stream",
     "text": [
      "Processing image C:/Users/DELL/Downloads/Dest/20240611_033225__to__20240617_215346/I_00924c.JPG\n"
     ]
    },
    {
     "name": "stderr",
     "output_type": "stream",
     "text": [
      " 48%|██████████████████████████████████████▉                                          | 89/185 [00:21<00:23,  4.13it/s]"
     ]
    },
    {
     "name": "stdout",
     "output_type": "stream",
     "text": [
      "Processing image C:/Users/DELL/Downloads/Dest/20240611_033225__to__20240617_215346/I_00925a.JPG\n"
     ]
    },
    {
     "name": "stderr",
     "output_type": "stream",
     "text": [
      " 49%|███████████████████████████████████████▍                                         | 90/185 [00:21<00:22,  4.18it/s]"
     ]
    },
    {
     "name": "stdout",
     "output_type": "stream",
     "text": [
      "Processing image C:/Users/DELL/Downloads/Dest/20240611_033225__to__20240617_215346/I_00925b.JPG\n"
     ]
    },
    {
     "name": "stderr",
     "output_type": "stream",
     "text": [
      " 49%|███████████████████████████████████████▊                                         | 91/185 [00:22<00:22,  4.21it/s]"
     ]
    },
    {
     "name": "stdout",
     "output_type": "stream",
     "text": [
      "Processing image C:/Users/DELL/Downloads/Dest/20240611_033225__to__20240617_215346/I_00925c.JPG\n"
     ]
    },
    {
     "name": "stderr",
     "output_type": "stream",
     "text": [
      " 50%|████████████████████████████████████████▎                                        | 92/185 [00:22<00:22,  4.19it/s]"
     ]
    },
    {
     "name": "stdout",
     "output_type": "stream",
     "text": [
      "Processing image C:/Users/DELL/Downloads/Dest/20240611_033225__to__20240617_215346/I_00926a.JPG\n"
     ]
    },
    {
     "name": "stderr",
     "output_type": "stream",
     "text": [
      " 50%|████████████████████████████████████████▋                                        | 93/185 [00:22<00:21,  4.24it/s]"
     ]
    },
    {
     "name": "stdout",
     "output_type": "stream",
     "text": [
      "Processing image C:/Users/DELL/Downloads/Dest/20240611_033225__to__20240617_215346/I_00926b.JPG\n"
     ]
    },
    {
     "name": "stderr",
     "output_type": "stream",
     "text": [
      " 51%|█████████████████████████████████████████▏                                       | 94/185 [00:22<00:21,  4.23it/s]"
     ]
    },
    {
     "name": "stdout",
     "output_type": "stream",
     "text": [
      "Processing image C:/Users/DELL/Downloads/Dest/20240611_033225__to__20240617_215346/I_00926c.JPG\n"
     ]
    },
    {
     "name": "stderr",
     "output_type": "stream",
     "text": [
      " 51%|█████████████████████████████████████████▌                                       | 95/185 [00:23<00:20,  4.29it/s]"
     ]
    },
    {
     "name": "stdout",
     "output_type": "stream",
     "text": [
      "Processing image C:/Users/DELL/Downloads/Dest/20240611_033225__to__20240617_215346/I_00927a.JPG\n"
     ]
    },
    {
     "name": "stderr",
     "output_type": "stream",
     "text": [
      " 52%|██████████████████████████████████████████                                       | 96/185 [00:23<00:20,  4.25it/s]"
     ]
    },
    {
     "name": "stdout",
     "output_type": "stream",
     "text": [
      "Processing image C:/Users/DELL/Downloads/Dest/20240611_033225__to__20240617_215346/I_00927b.JPG\n"
     ]
    },
    {
     "name": "stderr",
     "output_type": "stream",
     "text": [
      " 52%|██████████████████████████████████████████▍                                      | 97/185 [00:23<00:20,  4.25it/s]"
     ]
    },
    {
     "name": "stdout",
     "output_type": "stream",
     "text": [
      "Processing image C:/Users/DELL/Downloads/Dest/20240611_033225__to__20240617_215346/I_00927c.JPG\n"
     ]
    },
    {
     "name": "stderr",
     "output_type": "stream",
     "text": [
      " 53%|██████████████████████████████████████████▉                                      | 98/185 [00:23<00:20,  4.20it/s]"
     ]
    },
    {
     "name": "stdout",
     "output_type": "stream",
     "text": [
      "Processing image C:/Users/DELL/Downloads/Dest/20240611_033225__to__20240617_215346/I_00928a.JPG\n"
     ]
    },
    {
     "name": "stderr",
     "output_type": "stream",
     "text": [
      " 54%|███████████████████████████████████████████▎                                     | 99/185 [00:24<00:20,  4.16it/s]"
     ]
    },
    {
     "name": "stdout",
     "output_type": "stream",
     "text": [
      "Processing image C:/Users/DELL/Downloads/Dest/20240611_033225__to__20240617_215346/I_00928b.JPG\n"
     ]
    },
    {
     "name": "stderr",
     "output_type": "stream",
     "text": [
      " 54%|███████████████████████████████████████████▏                                    | 100/185 [00:24<00:20,  4.20it/s]"
     ]
    },
    {
     "name": "stdout",
     "output_type": "stream",
     "text": [
      "Processing image C:/Users/DELL/Downloads/Dest/20240611_033225__to__20240617_215346/I_00928c.JPG\n"
     ]
    },
    {
     "name": "stderr",
     "output_type": "stream",
     "text": [
      " 55%|███████████████████████████████████████████▋                                    | 101/185 [00:24<00:20,  4.17it/s]"
     ]
    },
    {
     "name": "stdout",
     "output_type": "stream",
     "text": [
      "Processing image C:/Users/DELL/Downloads/Dest/20240611_033225__to__20240617_215346/I_00929a.JPG\n"
     ]
    },
    {
     "name": "stderr",
     "output_type": "stream",
     "text": [
      " 55%|████████████████████████████████████████████                                    | 102/185 [00:24<00:19,  4.21it/s]"
     ]
    },
    {
     "name": "stdout",
     "output_type": "stream",
     "text": [
      "Processing image C:/Users/DELL/Downloads/Dest/20240611_033225__to__20240617_215346/I_00929b.JPG\n"
     ]
    },
    {
     "name": "stderr",
     "output_type": "stream",
     "text": [
      " 56%|████████████████████████████████████████████▌                                   | 103/185 [00:25<00:19,  4.28it/s]"
     ]
    },
    {
     "name": "stdout",
     "output_type": "stream",
     "text": [
      "Processing image C:/Users/DELL/Downloads/Dest/20240611_033225__to__20240617_215346/I_00929c.JPG\n"
     ]
    },
    {
     "name": "stderr",
     "output_type": "stream",
     "text": [
      " 56%|████████████████████████████████████████████▉                                   | 104/185 [00:25<00:19,  4.24it/s]"
     ]
    },
    {
     "name": "stdout",
     "output_type": "stream",
     "text": [
      "Processing image C:/Users/DELL/Downloads/Dest/20240611_033225__to__20240617_215346/I_00930a.JPG\n"
     ]
    },
    {
     "name": "stderr",
     "output_type": "stream",
     "text": [
      " 57%|█████████████████████████████████████████████▍                                  | 105/185 [00:25<00:18,  4.22it/s]"
     ]
    },
    {
     "name": "stdout",
     "output_type": "stream",
     "text": [
      "Processing image C:/Users/DELL/Downloads/Dest/20240611_033225__to__20240617_215346/I_00930b.JPG\n"
     ]
    },
    {
     "name": "stderr",
     "output_type": "stream",
     "text": [
      " 57%|█████████████████████████████████████████████▊                                  | 106/185 [00:25<00:18,  4.20it/s]"
     ]
    },
    {
     "name": "stdout",
     "output_type": "stream",
     "text": [
      "Processing image C:/Users/DELL/Downloads/Dest/20240611_033225__to__20240617_215346/I_00930c.JPG\n"
     ]
    },
    {
     "name": "stderr",
     "output_type": "stream",
     "text": [
      " 58%|██████████████████████████████████████████████▎                                 | 107/185 [00:25<00:18,  4.26it/s]"
     ]
    },
    {
     "name": "stdout",
     "output_type": "stream",
     "text": [
      "Processing image C:/Users/DELL/Downloads/Dest/20240611_033225__to__20240617_215346/I_00931a.JPG\n"
     ]
    },
    {
     "name": "stderr",
     "output_type": "stream",
     "text": [
      " 58%|██████████████████████████████████████████████▋                                 | 108/185 [00:26<00:18,  4.22it/s]"
     ]
    },
    {
     "name": "stdout",
     "output_type": "stream",
     "text": [
      "Processing image C:/Users/DELL/Downloads/Dest/20240611_033225__to__20240617_215346/I_00931b.JPG\n"
     ]
    },
    {
     "name": "stderr",
     "output_type": "stream",
     "text": [
      " 59%|███████████████████████████████████████████████▏                                | 109/185 [00:26<00:17,  4.22it/s]"
     ]
    },
    {
     "name": "stdout",
     "output_type": "stream",
     "text": [
      "Processing image C:/Users/DELL/Downloads/Dest/20240611_033225__to__20240617_215346/I_00931c.JPG\n"
     ]
    },
    {
     "name": "stderr",
     "output_type": "stream",
     "text": [
      " 59%|███████████████████████████████████████████████▌                                | 110/185 [00:26<00:17,  4.22it/s]"
     ]
    },
    {
     "name": "stdout",
     "output_type": "stream",
     "text": [
      "Processing image C:/Users/DELL/Downloads/Dest/20240611_033225__to__20240617_215346/I_00932a.JPG\n"
     ]
    },
    {
     "name": "stderr",
     "output_type": "stream",
     "text": [
      " 60%|████████████████████████████████████████████████                                | 111/185 [00:26<00:17,  4.23it/s]"
     ]
    },
    {
     "name": "stdout",
     "output_type": "stream",
     "text": [
      "Processing image C:/Users/DELL/Downloads/Dest/20240611_033225__to__20240617_215346/I_00932b.JPG\n"
     ]
    },
    {
     "name": "stderr",
     "output_type": "stream",
     "text": [
      " 61%|████████████████████████████████████████████████▍                               | 112/185 [00:27<00:17,  4.25it/s]"
     ]
    },
    {
     "name": "stdout",
     "output_type": "stream",
     "text": [
      "Processing image C:/Users/DELL/Downloads/Dest/20240611_033225__to__20240617_215346/I_00932c.JPG\n"
     ]
    },
    {
     "name": "stderr",
     "output_type": "stream",
     "text": [
      " 61%|████████████████████████████████████████████████▊                               | 113/185 [00:27<00:17,  4.22it/s]"
     ]
    },
    {
     "name": "stdout",
     "output_type": "stream",
     "text": [
      "Processing image C:/Users/DELL/Downloads/Dest/20240611_033225__to__20240617_215346/I_00933a.JPG\n"
     ]
    },
    {
     "name": "stderr",
     "output_type": "stream",
     "text": [
      " 62%|█████████████████████████████████████████████████▎                              | 114/185 [00:27<00:16,  4.28it/s]"
     ]
    },
    {
     "name": "stdout",
     "output_type": "stream",
     "text": [
      "Processing image C:/Users/DELL/Downloads/Dest/20240611_033225__to__20240617_215346/I_00933b.JPG\n"
     ]
    },
    {
     "name": "stderr",
     "output_type": "stream",
     "text": [
      " 62%|█████████████████████████████████████████████████▋                              | 115/185 [00:27<00:16,  4.25it/s]"
     ]
    },
    {
     "name": "stdout",
     "output_type": "stream",
     "text": [
      "Processing image C:/Users/DELL/Downloads/Dest/20240611_033225__to__20240617_215346/I_00933c.JPG\n"
     ]
    },
    {
     "name": "stderr",
     "output_type": "stream",
     "text": [
      " 63%|██████████████████████████████████████████████████▏                             | 116/185 [00:28<00:16,  4.30it/s]"
     ]
    },
    {
     "name": "stdout",
     "output_type": "stream",
     "text": [
      "Processing image C:/Users/DELL/Downloads/Dest/20240611_033225__to__20240617_215346/I_00934a.JPG\n"
     ]
    },
    {
     "name": "stderr",
     "output_type": "stream",
     "text": [
      " 63%|██████████████████████████████████████████████████▌                             | 117/185 [00:28<00:16,  4.16it/s]"
     ]
    },
    {
     "name": "stdout",
     "output_type": "stream",
     "text": [
      "Processing image C:/Users/DELL/Downloads/Dest/20240611_033225__to__20240617_215346/I_00934b.JPG\n"
     ]
    },
    {
     "name": "stderr",
     "output_type": "stream",
     "text": [
      " 64%|███████████████████████████████████████████████████                             | 118/185 [00:28<00:16,  4.15it/s]"
     ]
    },
    {
     "name": "stdout",
     "output_type": "stream",
     "text": [
      "Processing image C:/Users/DELL/Downloads/Dest/20240611_033225__to__20240617_215346/I_00934c.JPG\n"
     ]
    },
    {
     "name": "stderr",
     "output_type": "stream",
     "text": [
      " 64%|███████████████████████████████████████████████████▍                            | 119/185 [00:28<00:15,  4.14it/s]"
     ]
    },
    {
     "name": "stdout",
     "output_type": "stream",
     "text": [
      "Processing image C:/Users/DELL/Downloads/Dest/20240611_033225__to__20240617_215346/I_00935a.JPG\n"
     ]
    },
    {
     "name": "stderr",
     "output_type": "stream",
     "text": [
      " 65%|███████████████████████████████████████████████████▉                            | 120/185 [00:29<00:15,  4.16it/s]"
     ]
    },
    {
     "name": "stdout",
     "output_type": "stream",
     "text": [
      "Processing image C:/Users/DELL/Downloads/Dest/20240611_033225__to__20240617_215346/I_00935b.JPG\n"
     ]
    },
    {
     "name": "stderr",
     "output_type": "stream",
     "text": [
      " 65%|████████████████████████████████████████████████████▎                           | 121/185 [00:29<00:15,  4.20it/s]"
     ]
    },
    {
     "name": "stdout",
     "output_type": "stream",
     "text": [
      "Processing image C:/Users/DELL/Downloads/Dest/20240611_033225__to__20240617_215346/I_00935c.JPG\n"
     ]
    },
    {
     "name": "stderr",
     "output_type": "stream",
     "text": [
      " 66%|████████████████████████████████████████████████████▊                           | 122/185 [00:29<00:14,  4.23it/s]"
     ]
    },
    {
     "name": "stdout",
     "output_type": "stream",
     "text": [
      "Processing image C:/Users/DELL/Downloads/Dest/20240611_033225__to__20240617_215346/I_00936a.JPG\n"
     ]
    },
    {
     "name": "stderr",
     "output_type": "stream",
     "text": [
      " 66%|█████████████████████████████████████████████████████▏                          | 123/185 [00:29<00:14,  4.26it/s]"
     ]
    },
    {
     "name": "stdout",
     "output_type": "stream",
     "text": [
      "Processing image C:/Users/DELL/Downloads/Dest/20240611_033225__to__20240617_215346/I_00936b.JPG\n"
     ]
    },
    {
     "name": "stderr",
     "output_type": "stream",
     "text": [
      " 67%|█████████████████████████████████████████████████████▌                          | 124/185 [00:29<00:14,  4.29it/s]"
     ]
    },
    {
     "name": "stdout",
     "output_type": "stream",
     "text": [
      "Processing image C:/Users/DELL/Downloads/Dest/20240611_033225__to__20240617_215346/I_00936c.JPG\n"
     ]
    },
    {
     "name": "stderr",
     "output_type": "stream",
     "text": [
      " 68%|██████████████████████████████████████████████████████                          | 125/185 [00:30<00:14,  4.28it/s]"
     ]
    },
    {
     "name": "stdout",
     "output_type": "stream",
     "text": [
      "Processing image C:/Users/DELL/Downloads/Dest/20240611_033225__to__20240617_215346/I_00937a.JPG\n"
     ]
    },
    {
     "name": "stderr",
     "output_type": "stream",
     "text": [
      " 68%|██████████████████████████████████████████████████████▍                         | 126/185 [00:30<00:13,  4.32it/s]"
     ]
    },
    {
     "name": "stdout",
     "output_type": "stream",
     "text": [
      "Processing image C:/Users/DELL/Downloads/Dest/20240611_033225__to__20240617_215346/I_00937b.JPG\n"
     ]
    },
    {
     "name": "stderr",
     "output_type": "stream",
     "text": [
      " 69%|██████████████████████████████████████████████████████▉                         | 127/185 [00:30<00:13,  4.23it/s]"
     ]
    },
    {
     "name": "stdout",
     "output_type": "stream",
     "text": [
      "Processing image C:/Users/DELL/Downloads/Dest/20240611_033225__to__20240617_215346/I_00937c.JPG\n"
     ]
    },
    {
     "name": "stderr",
     "output_type": "stream",
     "text": [
      " 69%|███████████████████████████████████████████████████████▎                        | 128/185 [00:30<00:13,  4.18it/s]"
     ]
    },
    {
     "name": "stdout",
     "output_type": "stream",
     "text": [
      "Processing image C:/Users/DELL/Downloads/Dest/20240611_033225__to__20240617_215346/I_00938a.JPG\n"
     ]
    },
    {
     "name": "stderr",
     "output_type": "stream",
     "text": [
      " 70%|███████████████████████████████████████████████████████▊                        | 129/185 [00:31<00:13,  4.19it/s]"
     ]
    },
    {
     "name": "stdout",
     "output_type": "stream",
     "text": [
      "Processing image C:/Users/DELL/Downloads/Dest/20240611_033225__to__20240617_215346/I_00938b.JPG\n"
     ]
    },
    {
     "name": "stderr",
     "output_type": "stream",
     "text": [
      " 70%|████████████████████████████████████████████████████████▏                       | 130/185 [00:31<00:12,  4.28it/s]"
     ]
    },
    {
     "name": "stdout",
     "output_type": "stream",
     "text": [
      "Processing image C:/Users/DELL/Downloads/Dest/20240611_033225__to__20240617_215346/I_00938c.JPG\n"
     ]
    },
    {
     "name": "stderr",
     "output_type": "stream",
     "text": [
      " 71%|████████████████████████████████████████████████████████▋                       | 131/185 [00:31<00:12,  4.29it/s]"
     ]
    },
    {
     "name": "stdout",
     "output_type": "stream",
     "text": [
      "Processing image C:/Users/DELL/Downloads/Dest/20240611_033225__to__20240617_215346/I_00939a.JPG\n"
     ]
    },
    {
     "name": "stderr",
     "output_type": "stream",
     "text": [
      " 71%|█████████████████████████████████████████████████████████                       | 132/185 [00:31<00:12,  4.25it/s]"
     ]
    },
    {
     "name": "stdout",
     "output_type": "stream",
     "text": [
      "Processing image C:/Users/DELL/Downloads/Dest/20240611_033225__to__20240617_215346/I_00939b.JPG\n"
     ]
    },
    {
     "name": "stderr",
     "output_type": "stream",
     "text": [
      " 72%|█████████████████████████████████████████████████████████▌                      | 133/185 [00:32<00:12,  4.19it/s]"
     ]
    },
    {
     "name": "stdout",
     "output_type": "stream",
     "text": [
      "Processing image C:/Users/DELL/Downloads/Dest/20240611_033225__to__20240617_215346/I_00939c.JPG\n"
     ]
    },
    {
     "name": "stderr",
     "output_type": "stream",
     "text": [
      " 72%|█████████████████████████████████████████████████████████▉                      | 134/185 [00:32<00:12,  4.17it/s]"
     ]
    },
    {
     "name": "stdout",
     "output_type": "stream",
     "text": [
      "Processing image C:/Users/DELL/Downloads/Dest/20240611_033225__to__20240617_215346/I_00940a.JPG\n"
     ]
    },
    {
     "name": "stderr",
     "output_type": "stream",
     "text": [
      " 73%|██████████████████████████████████████████████████████████▍                     | 135/185 [00:32<00:11,  4.20it/s]"
     ]
    },
    {
     "name": "stdout",
     "output_type": "stream",
     "text": [
      "Processing image C:/Users/DELL/Downloads/Dest/20240611_033225__to__20240617_215346/I_00940b.JPG\n"
     ]
    },
    {
     "name": "stderr",
     "output_type": "stream",
     "text": [
      " 74%|██████████████████████████████████████████████████████████▊                     | 136/185 [00:32<00:11,  4.22it/s]"
     ]
    },
    {
     "name": "stdout",
     "output_type": "stream",
     "text": [
      "Processing image C:/Users/DELL/Downloads/Dest/20240611_033225__to__20240617_215346/I_00940c.JPG\n"
     ]
    },
    {
     "name": "stderr",
     "output_type": "stream",
     "text": [
      " 74%|███████████████████████████████████████████████████████████▏                    | 137/185 [00:33<00:11,  4.18it/s]"
     ]
    },
    {
     "name": "stdout",
     "output_type": "stream",
     "text": [
      "Processing image C:/Users/DELL/Downloads/Dest/20240611_033225__to__20240617_215346/I_00941a.JPG\n"
     ]
    },
    {
     "name": "stderr",
     "output_type": "stream",
     "text": [
      " 75%|███████████████████████████████████████████████████████████▋                    | 138/185 [00:33<00:11,  4.09it/s]"
     ]
    },
    {
     "name": "stdout",
     "output_type": "stream",
     "text": [
      "Processing image C:/Users/DELL/Downloads/Dest/20240611_033225__to__20240617_215346/I_00941b.JPG\n"
     ]
    },
    {
     "name": "stderr",
     "output_type": "stream",
     "text": [
      " 75%|████████████████████████████████████████████████████████████                    | 139/185 [00:33<00:11,  4.13it/s]"
     ]
    },
    {
     "name": "stdout",
     "output_type": "stream",
     "text": [
      "Processing image C:/Users/DELL/Downloads/Dest/20240611_033225__to__20240617_215346/I_00941c.JPG\n"
     ]
    },
    {
     "name": "stderr",
     "output_type": "stream",
     "text": [
      " 76%|████████████████████████████████████████████████████████████▌                   | 140/185 [00:33<00:10,  4.14it/s]"
     ]
    },
    {
     "name": "stdout",
     "output_type": "stream",
     "text": [
      "Processing image C:/Users/DELL/Downloads/Dest/20240611_033225__to__20240617_215346/I_00942a.JPG\n"
     ]
    },
    {
     "name": "stderr",
     "output_type": "stream",
     "text": [
      " 76%|████████████████████████████████████████████████████████████▉                   | 141/185 [00:34<00:10,  4.18it/s]"
     ]
    },
    {
     "name": "stdout",
     "output_type": "stream",
     "text": [
      "Processing image C:/Users/DELL/Downloads/Dest/20240611_033225__to__20240617_215346/I_00942b.JPG\n"
     ]
    },
    {
     "name": "stderr",
     "output_type": "stream",
     "text": [
      " 77%|█████████████████████████████████████████████████████████████▍                  | 142/185 [00:34<00:10,  4.17it/s]"
     ]
    },
    {
     "name": "stdout",
     "output_type": "stream",
     "text": [
      "Processing image C:/Users/DELL/Downloads/Dest/20240611_033225__to__20240617_215346/I_00942c.JPG\n"
     ]
    },
    {
     "name": "stderr",
     "output_type": "stream",
     "text": [
      " 77%|█████████████████████████████████████████████████████████████▊                  | 143/185 [00:34<00:10,  4.17it/s]"
     ]
    },
    {
     "name": "stdout",
     "output_type": "stream",
     "text": [
      "Processing image C:/Users/DELL/Downloads/Dest/20240611_033225__to__20240617_215346/I_00943a.JPG\n"
     ]
    },
    {
     "name": "stderr",
     "output_type": "stream",
     "text": [
      " 78%|██████████████████████████████████████████████████████████████▎                 | 144/185 [00:34<00:09,  4.24it/s]"
     ]
    },
    {
     "name": "stdout",
     "output_type": "stream",
     "text": [
      "Processing image C:/Users/DELL/Downloads/Dest/20240611_033225__to__20240617_215346/I_00943b.JPG\n"
     ]
    },
    {
     "name": "stderr",
     "output_type": "stream",
     "text": [
      " 78%|██████████████████████████████████████████████████████████████▋                 | 145/185 [00:34<00:09,  4.30it/s]"
     ]
    },
    {
     "name": "stdout",
     "output_type": "stream",
     "text": [
      "Processing image C:/Users/DELL/Downloads/Dest/20240611_033225__to__20240617_215346/I_00943c.JPG\n"
     ]
    },
    {
     "name": "stderr",
     "output_type": "stream",
     "text": [
      " 79%|███████████████████████████████████████████████████████████████▏                | 146/185 [00:35<00:09,  4.29it/s]"
     ]
    },
    {
     "name": "stdout",
     "output_type": "stream",
     "text": [
      "Processing image C:/Users/DELL/Downloads/Dest/20240611_033225__to__20240617_215346/I_00944a.JPG\n"
     ]
    },
    {
     "name": "stderr",
     "output_type": "stream",
     "text": [
      " 79%|███████████████████████████████████████████████████████████████▌                | 147/185 [00:35<00:08,  4.27it/s]"
     ]
    },
    {
     "name": "stdout",
     "output_type": "stream",
     "text": [
      "Processing image C:/Users/DELL/Downloads/Dest/20240611_033225__to__20240617_215346/I_00944b.JPG\n"
     ]
    },
    {
     "name": "stderr",
     "output_type": "stream",
     "text": [
      " 80%|████████████████████████████████████████████████████████████████                | 148/185 [00:35<00:08,  4.26it/s]"
     ]
    },
    {
     "name": "stdout",
     "output_type": "stream",
     "text": [
      "Processing image C:/Users/DELL/Downloads/Dest/20240611_033225__to__20240617_215346/I_00944c.JPG\n"
     ]
    },
    {
     "name": "stderr",
     "output_type": "stream",
     "text": [
      " 81%|████████████████████████████████████████████████████████████████▍               | 149/185 [00:35<00:08,  4.21it/s]"
     ]
    },
    {
     "name": "stdout",
     "output_type": "stream",
     "text": [
      "Processing image C:/Users/DELL/Downloads/Dest/20240611_033225__to__20240617_215346/I_00945a.JPG\n"
     ]
    },
    {
     "name": "stderr",
     "output_type": "stream",
     "text": [
      " 81%|████████████████████████████████████████████████████████████████▊               | 150/185 [00:36<00:08,  4.22it/s]"
     ]
    },
    {
     "name": "stdout",
     "output_type": "stream",
     "text": [
      "Processing image C:/Users/DELL/Downloads/Dest/20240611_033225__to__20240617_215346/I_00945b.JPG\n"
     ]
    },
    {
     "name": "stderr",
     "output_type": "stream",
     "text": [
      " 82%|█████████████████████████████████████████████████████████████████▎              | 151/185 [00:36<00:08,  4.22it/s]"
     ]
    },
    {
     "name": "stdout",
     "output_type": "stream",
     "text": [
      "Processing image C:/Users/DELL/Downloads/Dest/20240611_033225__to__20240617_215346/I_00945c.JPG\n"
     ]
    },
    {
     "name": "stderr",
     "output_type": "stream",
     "text": [
      " 82%|█████████████████████████████████████████████████████████████████▋              | 152/185 [00:36<00:07,  4.23it/s]"
     ]
    },
    {
     "name": "stdout",
     "output_type": "stream",
     "text": [
      "Processing image C:/Users/DELL/Downloads/Dest/20240611_033225__to__20240617_215346/I_00946a.JPG\n"
     ]
    },
    {
     "name": "stderr",
     "output_type": "stream",
     "text": [
      " 83%|██████████████████████████████████████████████████████████████████▏             | 153/185 [00:36<00:07,  4.21it/s]"
     ]
    },
    {
     "name": "stdout",
     "output_type": "stream",
     "text": [
      "Processing image C:/Users/DELL/Downloads/Dest/20240611_033225__to__20240617_215346/I_00946b.JPG\n"
     ]
    },
    {
     "name": "stderr",
     "output_type": "stream",
     "text": [
      " 83%|██████████████████████████████████████████████████████████████████▌             | 154/185 [00:37<00:07,  4.24it/s]"
     ]
    },
    {
     "name": "stdout",
     "output_type": "stream",
     "text": [
      "Processing image C:/Users/DELL/Downloads/Dest/20240611_033225__to__20240617_215346/I_00946c.JPG\n"
     ]
    },
    {
     "name": "stderr",
     "output_type": "stream",
     "text": [
      " 84%|███████████████████████████████████████████████████████████████████             | 155/185 [00:37<00:07,  4.22it/s]"
     ]
    },
    {
     "name": "stdout",
     "output_type": "stream",
     "text": [
      "Processing image C:/Users/DELL/Downloads/Dest/20240611_033225__to__20240617_215346/I_00947a.JPG\n"
     ]
    },
    {
     "name": "stderr",
     "output_type": "stream",
     "text": [
      " 84%|███████████████████████████████████████████████████████████████████▍            | 156/185 [00:37<00:06,  4.18it/s]"
     ]
    },
    {
     "name": "stdout",
     "output_type": "stream",
     "text": [
      "Processing image C:/Users/DELL/Downloads/Dest/20240611_033225__to__20240617_215346/I_00947b.JPG\n"
     ]
    },
    {
     "name": "stderr",
     "output_type": "stream",
     "text": [
      " 85%|███████████████████████████████████████████████████████████████████▉            | 157/185 [00:37<00:06,  4.10it/s]"
     ]
    },
    {
     "name": "stdout",
     "output_type": "stream",
     "text": [
      "Processing image C:/Users/DELL/Downloads/Dest/20240611_033225__to__20240617_215346/I_00947c.JPG\n"
     ]
    },
    {
     "name": "stderr",
     "output_type": "stream",
     "text": [
      " 85%|████████████████████████████████████████████████████████████████████▎           | 158/185 [00:38<00:06,  4.08it/s]"
     ]
    },
    {
     "name": "stdout",
     "output_type": "stream",
     "text": [
      "Processing image C:/Users/DELL/Downloads/Dest/20240611_033225__to__20240617_215346/I_00948a.JPG\n"
     ]
    },
    {
     "name": "stderr",
     "output_type": "stream",
     "text": [
      " 86%|████████████████████████████████████████████████████████████████████▊           | 159/185 [00:38<00:06,  4.08it/s]"
     ]
    },
    {
     "name": "stdout",
     "output_type": "stream",
     "text": [
      "Processing image C:/Users/DELL/Downloads/Dest/20240611_033225__to__20240617_215346/I_00948b.JPG\n"
     ]
    },
    {
     "name": "stderr",
     "output_type": "stream",
     "text": [
      " 86%|█████████████████████████████████████████████████████████████████████▏          | 160/185 [00:38<00:05,  4.20it/s]"
     ]
    },
    {
     "name": "stdout",
     "output_type": "stream",
     "text": [
      "Processing image C:/Users/DELL/Downloads/Dest/20240611_033225__to__20240617_215346/I_00948c.JPG\n"
     ]
    },
    {
     "name": "stderr",
     "output_type": "stream",
     "text": [
      " 87%|█████████████████████████████████████████████████████████████████████▌          | 161/185 [00:38<00:05,  4.11it/s]"
     ]
    },
    {
     "name": "stdout",
     "output_type": "stream",
     "text": [
      "Processing image C:/Users/DELL/Downloads/Dest/20240611_033225__to__20240617_215346/I_00949a.JPG\n"
     ]
    },
    {
     "name": "stderr",
     "output_type": "stream",
     "text": [
      " 88%|██████████████████████████████████████████████████████████████████████          | 162/185 [00:39<00:05,  4.19it/s]"
     ]
    },
    {
     "name": "stdout",
     "output_type": "stream",
     "text": [
      "Processing image C:/Users/DELL/Downloads/Dest/20240611_033225__to__20240617_215346/I_00949b.JPG\n"
     ]
    },
    {
     "name": "stderr",
     "output_type": "stream",
     "text": [
      " 88%|██████████████████████████████████████████████████████████████████████▍         | 163/185 [00:39<00:05,  4.19it/s]"
     ]
    },
    {
     "name": "stdout",
     "output_type": "stream",
     "text": [
      "Processing image C:/Users/DELL/Downloads/Dest/20240611_033225__to__20240617_215346/I_00949c.JPG\n"
     ]
    },
    {
     "name": "stderr",
     "output_type": "stream",
     "text": [
      " 89%|██████████████████████████████████████████████████████████████████████▉         | 164/185 [00:39<00:05,  4.13it/s]"
     ]
    },
    {
     "name": "stdout",
     "output_type": "stream",
     "text": [
      "Processing image C:/Users/DELL/Downloads/Dest/20240611_033225__to__20240617_215346/I_00950a.JPG\n"
     ]
    },
    {
     "name": "stderr",
     "output_type": "stream",
     "text": [
      " 89%|███████████████████████████████████████████████████████████████████████▎        | 165/185 [00:39<00:04,  4.09it/s]"
     ]
    },
    {
     "name": "stdout",
     "output_type": "stream",
     "text": [
      "Processing image C:/Users/DELL/Downloads/Dest/20240611_033225__to__20240617_215346/I_00950b.JPG\n"
     ]
    },
    {
     "name": "stderr",
     "output_type": "stream",
     "text": [
      " 90%|███████████████████████████████████████████████████████████████████████▊        | 166/185 [00:40<00:04,  4.06it/s]"
     ]
    },
    {
     "name": "stdout",
     "output_type": "stream",
     "text": [
      "Processing image C:/Users/DELL/Downloads/Dest/20240611_033225__to__20240617_215346/I_00950c.JPG\n"
     ]
    },
    {
     "name": "stderr",
     "output_type": "stream",
     "text": [
      " 90%|████████████████████████████████████████████████████████████████████████▏       | 167/185 [00:40<00:04,  4.12it/s]"
     ]
    },
    {
     "name": "stdout",
     "output_type": "stream",
     "text": [
      "Processing image C:/Users/DELL/Downloads/Dest/20240611_033225__to__20240617_215346/I_00951a.JPG\n"
     ]
    },
    {
     "name": "stderr",
     "output_type": "stream",
     "text": [
      " 91%|████████████████████████████████████████████████████████████████████████▋       | 168/185 [00:40<00:04,  4.08it/s]"
     ]
    },
    {
     "name": "stdout",
     "output_type": "stream",
     "text": [
      "Processing image C:/Users/DELL/Downloads/Dest/20240611_033225__to__20240617_215346/I_00951b.JPG\n"
     ]
    },
    {
     "name": "stderr",
     "output_type": "stream",
     "text": [
      " 91%|█████████████████████████████████████████████████████████████████████████       | 169/185 [00:40<00:03,  4.14it/s]"
     ]
    },
    {
     "name": "stdout",
     "output_type": "stream",
     "text": [
      "Processing image C:/Users/DELL/Downloads/Dest/20240611_033225__to__20240617_215346/I_00951c.JPG\n"
     ]
    },
    {
     "name": "stderr",
     "output_type": "stream",
     "text": [
      " 92%|█████████████████████████████████████████████████████████████████████████▌      | 170/185 [00:40<00:03,  4.09it/s]"
     ]
    },
    {
     "name": "stdout",
     "output_type": "stream",
     "text": [
      "Processing image C:/Users/DELL/Downloads/Dest/20240611_033225__to__20240617_215346/I_00952a.JPG\n"
     ]
    },
    {
     "name": "stderr",
     "output_type": "stream",
     "text": [
      " 92%|█████████████████████████████████████████████████████████████████████████▉      | 171/185 [00:41<00:03,  4.14it/s]"
     ]
    },
    {
     "name": "stdout",
     "output_type": "stream",
     "text": [
      "Processing image C:/Users/DELL/Downloads/Dest/20240611_033225__to__20240617_215346/I_00952b.JPG\n"
     ]
    },
    {
     "name": "stderr",
     "output_type": "stream",
     "text": [
      " 93%|██████████████████████████████████████████████████████████████████████████▍     | 172/185 [00:41<00:03,  4.13it/s]"
     ]
    },
    {
     "name": "stdout",
     "output_type": "stream",
     "text": [
      "Processing image C:/Users/DELL/Downloads/Dest/20240611_033225__to__20240617_215346/I_00952c.JPG\n"
     ]
    },
    {
     "name": "stderr",
     "output_type": "stream",
     "text": [
      " 94%|██████████████████████████████████████████████████████████████████████████▊     | 173/185 [00:41<00:02,  4.08it/s]"
     ]
    },
    {
     "name": "stdout",
     "output_type": "stream",
     "text": [
      "Processing image C:/Users/DELL/Downloads/Dest/20240611_033225__to__20240617_215346/I_00953a.JPG\n"
     ]
    },
    {
     "name": "stderr",
     "output_type": "stream",
     "text": [
      " 94%|███████████████████████████████████████████████████████████████████████████▏    | 174/185 [00:41<00:02,  4.14it/s]"
     ]
    },
    {
     "name": "stdout",
     "output_type": "stream",
     "text": [
      "Processing image C:/Users/DELL/Downloads/Dest/20240611_033225__to__20240617_215346/I_00953b.JPG\n"
     ]
    },
    {
     "name": "stderr",
     "output_type": "stream",
     "text": [
      " 95%|███████████████████████████████████████████████████████████████████████████▋    | 175/185 [00:42<00:02,  4.17it/s]"
     ]
    },
    {
     "name": "stdout",
     "output_type": "stream",
     "text": [
      "Processing image C:/Users/DELL/Downloads/Dest/20240611_033225__to__20240617_215346/I_00953c.JPG\n"
     ]
    },
    {
     "name": "stderr",
     "output_type": "stream",
     "text": [
      " 95%|████████████████████████████████████████████████████████████████████████████    | 176/185 [00:42<00:02,  4.20it/s]"
     ]
    },
    {
     "name": "stdout",
     "output_type": "stream",
     "text": [
      "Processing image C:/Users/DELL/Downloads/Dest/20240611_033225__to__20240617_215346/SudasariACD_B_20240611_033225(1).JPG\n"
     ]
    },
    {
     "name": "stderr",
     "output_type": "stream",
     "text": [
      " 96%|████████████████████████████████████████████████████████████████████████████▌   | 177/185 [00:42<00:01,  4.22it/s]"
     ]
    },
    {
     "name": "stdout",
     "output_type": "stream",
     "text": [
      "Processing image C:/Users/DELL/Downloads/Dest/20240611_033225__to__20240617_215346/SudasariACD_B_20240612_233213(1).JPG\n"
     ]
    },
    {
     "name": "stderr",
     "output_type": "stream",
     "text": [
      " 96%|████████████████████████████████████████████████████████████████████████████▉   | 178/185 [00:42<00:01,  4.23it/s]"
     ]
    },
    {
     "name": "stdout",
     "output_type": "stream",
     "text": [
      "Processing image C:/Users/DELL/Downloads/Dest/20240611_033225__to__20240617_215346/SudasariACD_B_20240612_233213(2).JPG\n"
     ]
    },
    {
     "name": "stderr",
     "output_type": "stream",
     "text": [
      " 97%|█████████████████████████████████████████████████████████████████████████████▍  | 179/185 [00:43<00:01,  4.24it/s]"
     ]
    },
    {
     "name": "stdout",
     "output_type": "stream",
     "text": [
      "Processing image C:/Users/DELL/Downloads/Dest/20240611_033225__to__20240617_215346/SudasariACD_B_20240612_233213(3).JPG\n"
     ]
    },
    {
     "name": "stderr",
     "output_type": "stream",
     "text": [
      " 97%|█████████████████████████████████████████████████████████████████████████████▊  | 180/185 [00:43<00:01,  4.34it/s]"
     ]
    },
    {
     "name": "stdout",
     "output_type": "stream",
     "text": [
      "Processing image C:/Users/DELL/Downloads/Dest/20240611_033225__to__20240617_215346/SudasariACD_B_20240615_103857(1).JPG\n"
     ]
    },
    {
     "name": "stderr",
     "output_type": "stream",
     "text": [
      " 98%|██████████████████████████████████████████████████████████████████████████████▎ | 181/185 [00:43<00:00,  4.23it/s]"
     ]
    },
    {
     "name": "stdout",
     "output_type": "stream",
     "text": [
      "Processing image C:/Users/DELL/Downloads/Dest/20240611_033225__to__20240617_215346/SudasariACD_B_20240616_022303(1).JPG\n"
     ]
    },
    {
     "name": "stderr",
     "output_type": "stream",
     "text": [
      " 98%|██████████████████████████████████████████████████████████████████████████████▋ | 182/185 [00:43<00:00,  4.24it/s]"
     ]
    },
    {
     "name": "stdout",
     "output_type": "stream",
     "text": [
      "Processing image C:/Users/DELL/Downloads/Dest/20240611_033225__to__20240617_215346/SudasariACD_B_20240616_230410(1).JPG\n"
     ]
    },
    {
     "name": "stderr",
     "output_type": "stream",
     "text": [
      " 99%|███████████████████████████████████████████████████████████████████████████████▏| 183/185 [00:44<00:00,  4.25it/s]"
     ]
    },
    {
     "name": "stdout",
     "output_type": "stream",
     "text": [
      "Processing image C:/Users/DELL/Downloads/Dest/20240611_033225__to__20240617_215346/SudasariACD_B_20240617_090622(1).JPG\n"
     ]
    },
    {
     "name": "stderr",
     "output_type": "stream",
     "text": [
      " 99%|███████████████████████████████████████████████████████████████████████████████▌| 184/185 [00:44<00:00,  4.25it/s]"
     ]
    },
    {
     "name": "stdout",
     "output_type": "stream",
     "text": [
      "Processing image C:/Users/DELL/Downloads/Dest/20240611_033225__to__20240617_215346/SudasariACD_B_20240617_215346(1).JPG\n"
     ]
    },
    {
     "name": "stderr",
     "output_type": "stream",
     "text": [
      "100%|████████████████████████████████████████████████████████████████████████████████| 185/185 [00:44<00:00,  4.15it/s]"
     ]
    },
    {
     "name": "stdout",
     "output_type": "stream",
     "text": [
      "Warning: no metadata for unknown detector version unknown\n",
      "Output file saved at C:\\Users\\DELL\\Downloads\\Dest\\20240611_033225__to__20240617_215346\\20240611_033225__to__20240617_215346_megadetector.json\n"
     ]
    },
    {
     "name": "stderr",
     "output_type": "stream",
     "text": [
      "\n"
     ]
    }
   ],
   "source": [
    "json_dir = megadetector(data_dir)"
   ]
  },
  {
   "cell_type": "code",
   "execution_count": 11,
   "id": "cfd333f8-414f-47f0-9651-17fab259f2b2",
   "metadata": {},
   "outputs": [],
   "source": [
    "from megadetector.detection.run_detector_batch import load_and_run_detector_batch, write_results_to_file\n",
    "from megadetector.utils import path_utils\n",
    "\n",
    "def megadetector(img_dir):\n",
    "    output_file_name = img_dir.split(\"\\\\\")[-1]\n",
    "    # Pick a folder to run MD on recursively, and an output file\n",
    "    image_folder = data_dir\n",
    "    output_file = os.path.join(img_dir, f\"{output_file_name}_megadetector.json\")\n",
    "\n",
    "    if os.path.exists(output_file):\n",
    "        print(\"Megadetector output file already exists.. Going for species classification\")\n",
    "        log_dir = os.path.join(img_dir, f\"{output_file_name}_log.json\")\n",
    "        if os.path.exists(log_dir):\n",
    "            with open(log_dir, 'r') as f:\n",
    "                log = json.load(f)\n",
    "        print(f\"Saving detections at {json_dir}...\") \n",
    "    else:\n",
    "        # Recursively find images\n",
    "        image_file_names = path_utils.find_images(image_folder,recursive=True)\n",
    "        \n",
    "        # This will automatically download MDv5a; you can also specify a filename.\n",
    "        results = load_and_run_detector_batch(os.path.join(os.getcwd(), \"md_v5a.0.0.pt\"), image_file_names)\n",
    "        \n",
    "        # Write results to a format that Timelapse and other downstream tools like.\n",
    "        #write_results_to_file(results, output_file, relative_path_base=image_folder)\n",
    "    return output_file"
   ]
  }
 ],
 "metadata": {
  "kernelspec": {
   "display_name": "Python 3 (ipykernel)",
   "language": "python",
   "name": "python3"
  },
  "language_info": {
   "codemirror_mode": {
    "name": "ipython",
    "version": 3
   },
   "file_extension": ".py",
   "mimetype": "text/x-python",
   "name": "python",
   "nbconvert_exporter": "python",
   "pygments_lexer": "ipython3",
   "version": "3.9.19"
  }
 },
 "nbformat": 4,
 "nbformat_minor": 5
}
